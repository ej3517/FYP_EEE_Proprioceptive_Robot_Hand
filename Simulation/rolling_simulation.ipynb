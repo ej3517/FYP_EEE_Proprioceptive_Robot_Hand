{
 "cells": [
  {
   "cell_type": "markdown",
   "metadata": {},
   "source": [
    "# Libraries"
   ]
  },
  {
   "cell_type": "code",
   "execution_count": 14,
   "metadata": {},
   "outputs": [],
   "source": [
    "import matplotlib.pyplot as plt\n",
    "import numpy as np\n",
    "import math\n",
    "import json"
   ]
  },
  {
   "cell_type": "markdown",
   "metadata": {},
   "source": [
    "# trajectory"
   ]
  },
  {
   "cell_type": "code",
   "execution_count": 4,
   "metadata": {},
   "outputs": [],
   "source": [
    "def pos2deg(ang):\n",
    "    return int(360/4095.0*ang - 360.0/4)\n",
    "\n",
    "def deg2pos(angle):\n",
    "    return int(4095.0/360*angle + 4095.0/4)\n",
    "\n",
    "def deg2rad(ang):\n",
    "    return ang*math.pi/180\n",
    "\n",
    "def list_of_angle(theta1,theta2, increase):\n",
    "    \"\"\" input in deg but output in rad\"\"\"\n",
    "    if increase:\n",
    "        deg_trajectory = [*range(theta1, theta2, 1)]\n",
    "    else:\n",
    "        deg_trajectory = [*range(theta1, theta2, -1)]\n",
    "    return [element*math.pi/180 for element in deg_trajectory]"
   ]
  },
  {
   "cell_type": "markdown",
   "metadata": {},
   "source": [
    "# GEOMETRIC MODEL "
   ]
  },
  {
   "cell_type": "code",
   "execution_count": 5,
   "metadata": {},
   "outputs": [],
   "source": [
    "def norm2points(u,v):\n",
    "    return math.sqrt((u[0]-v[0])**2+(u[1]-v[1])**2)\n",
    "\n",
    "def model_rolling(theta_lf, a, b, c, d):\n",
    "    e = math.sqrt(d**2 + a**2 - 2*a*d*math.cos(theta_lf))\n",
    "    beta = math.acos((e**2 +d**2 - a**2)/(2*d*e))\n",
    "    delta = math.acos((c**2 +e**2 - b**2)/(2*c*e))\n",
    "    theta_rf = math.pi - (delta + beta)\n",
    "    return theta_rf\n",
    "\n",
    "# GENERATION OF THE SQUARE\n",
    "\n",
    "def square_generation(p1,p2,diag):\n",
    "    p1 = np.array(p1)\n",
    "    p2 = np.array(p2)\n",
    "    p2p1 = p2 - p1\n",
    "    u = p2p1/np.linalg.norm(p2p1)\n",
    "    ## matrix orthogonal\n",
    "    T = np.array([[0, -1],[1, 0]])\n",
    "    ## orthogonal vector\n",
    "    v = np.matmul(T,u)\n",
    "    p3 = p1 + (diag/2)*(u+v)\n",
    "    p4 = p1 + (diag/2)*(u-v)\n",
    "    return [p3, p4]\n",
    "\n",
    "def square_generation_side(p1,p2,side):\n",
    "    \"\"\" up means that the contact point are the upper side of the square\"\"\"\n",
    "    p1 = np.array(p1)\n",
    "    p2 = np.array(p2)\n",
    "    p2p1 = p2 - p1\n",
    "    u = p2p1/np.linalg.norm(p2p1)\n",
    "    ## matrix orthogonal\n",
    "    T = np.array([[0, -1],[1, 0]])\n",
    "    ## orthogonal vector\n",
    "    v = np.matmul(T,u)\n",
    "    p3 = p1 - side*v\n",
    "    p4 = p2 - side*v\n",
    "    return [p3, p4]\n",
    "\n",
    "# GENERATION OF THE SQUARE\n",
    "\n",
    "def corner_identification(pivot,p1,p2):\n",
    "    \"\"\" cos(ang) = (p1-pivot).(p2-pivot)/norm\"\"\"\n",
    "    v = np.array(p1) - np.array(pivot)\n",
    "    u = np.array(p2)- np.array(pivot)\n",
    "    norm_u = np.linalg.norm(u)\n",
    "    norm_v = np.linalg.norm(v)\n",
    "    angle = math.acos(np.dot(v,u)/(norm_u*norm_v))\n",
    "    return angle > math.pi/2"
   ]
  },
  {
   "cell_type": "markdown",
   "metadata": {},
   "source": [
    "# PLOTTING FUNCTIONS"
   ]
  },
  {
   "cell_type": "code",
   "execution_count": 6,
   "metadata": {},
   "outputs": [],
   "source": [
    "def plot_scene(A,B,C,D,E,F,G,H):\n",
    "        \"\"\" plotting \"\"\"\n",
    "        plt.figure()\n",
    "        ax = plt.axes()\n",
    "        ax.set_facecolor(\"gray\")\n",
    "        ### base\n",
    "        plt.plot([0,D[0]],[0,0],'black',linewidth=5)\n",
    "        ### fingers\n",
    "        plt.plot([A[0],G[0]],[A[1],G[1]],linewidth=2,color='w')\n",
    "        plt.plot([D[0],H[0]],[D[1],H[1]],linewidth=2,color='w')\n",
    "        ## square\n",
    "        plt.plot([B[0],C[0]],[B[1],C[1]],linewidth=2,color='black')\n",
    "        plt.plot([B[0],E[0]],[B[1],E[1]],linewidth=2,color='black')\n",
    "        plt.plot([B[0],F[0]],[B[1],F[1]],linewidth=2,color='black')\n",
    "        plt.plot([C[0],E[0]],[C[1],E[1]],linewidth=2,color='black')\n",
    "        plt.plot([C[0],F[0]],[C[1],F[1]],linewidth=2,color='black')\n",
    "        plt.plot([E[0],F[0]],[E[1],F[1]],linewidth=2,color='black')\n",
    "        ## pivot\n",
    "        plt.plot(A[0],A[1],'o',markersize=5,color='blue')\n",
    "        plt.plot(B[0],B[1],'o',markersize=5,color='orange')\n",
    "        plt.plot(C[0],C[1],'o',markersize=5,color='orange')\n",
    "        plt.plot(D[0],D[1],'o',markersize=5,color='blue')\n",
    "        plt.plot(E[0],E[1],'o',markersize=5,color='orange')\n",
    "        plt.plot(F[0],F[1],'o',markersize=5,color='orange')\n",
    "        plt.xlim([-80,160])\n",
    "        plt.ylim([-60,180])\n",
    "\n",
    "def plot_pos_evol(thetaL,thetaR):\n",
    "    \"\"\" plotting \"\"\"\n",
    "    fig = plt.figure()\n",
    "    ax = fig.add_subplot(111)\n",
    "    ax.plot(thetaL, label = r'$\\theta_L$')\n",
    "    ax.plot(thetaR, label = r'$\\theta_R$')\n",
    "    leg1 = ax.legend(loc='upper right')\n",
    "    plt.title(\"Fingers' Position - Rolling Manipulation\")\n",
    "    plt.ylabel('deg')\n",
    "    plt.xlabel('time')\n",
    "    plt.grid()\n",
    "    plt.show()"
   ]
  },
  {
   "cell_type": "markdown",
   "metadata": {},
   "source": [
    "# SIMULATION ALGORITHM"
   ]
  },
  {
   "cell_type": "code",
   "execution_count": 11,
   "metadata": {},
   "outputs": [],
   "source": [
    "def ini_left_contact(face,c,d):\n",
    "    \"\"\"calculate the left contact point given that sqaure perpendicular to right finger \"\"\"\n",
    "    return math.sqrt((d-face)**2+(c+face)**2)\n",
    "\n",
    "# WHEN THE SQUARE IS HANGING FROM CONSECUTIVE CORNER\n",
    "\n",
    "def rolling_simulation_side(a, b, c, d, s,traj, forward):\n",
    "    \"\"\"s : diagonal in this case \"\"\"\n",
    "    keep_data = True\n",
    "    list_theta_l = []\n",
    "    list_theta_r = []\n",
    "    len_finger = 132\n",
    "    n = len(traj)\n",
    "    for i in range(0,n):\n",
    "        theta_pos = traj[i]\n",
    "        A1 = [0, 0]\n",
    "        D1 = [finger_gap, 0]\n",
    "        if forward:\n",
    "            theta_pos = math.pi - theta_pos\n",
    "            theta_follow = model_rolling(theta_pos,c,b,a,d)\n",
    "            theta_l = math.pi - theta_follow\n",
    "            theta_r = math.pi - theta_pos\n",
    "        else:\n",
    "            theta_follow = model_rolling(theta_pos,a,b,c,d)\n",
    "            theta_r = theta_follow\n",
    "            theta_l = theta_pos\n",
    "        B1 = [a*math.cos(theta_l), a*math.sin(theta_l)]\n",
    "        C1 = [finger_gap + c*math.cos(theta_r), c*math.sin(theta_r)]\n",
    "        # square\n",
    "        [E1, F1] = square_generation_side(B1,C1, b)\n",
    "        ### finger ends\n",
    "        G1 = [len_finger*math.cos(theta_l), len_finger*math.sin(theta_l)]\n",
    "        H1 = [finger_gap + len_finger*math.cos(theta_r), len_finger*math.sin(theta_r)]\n",
    "\n",
    "        # if a corner is identified\n",
    "        if corner_identification(B1,G1,C1):\n",
    "            a = a-b\n",
    "            [next_theta_l, next_theta_r, a, c] = rolling_simulation_diag(a, s, c, d, b, traj[i:-1], forward)\n",
    "            list_theta_l += next_theta_l\n",
    "            list_theta_r += next_theta_r\n",
    "            keep_data = False\n",
    "            break\n",
    "        elif corner_identification(C1,H1,B1):\n",
    "            c = c-b\n",
    "            [next_theta_l, next_theta_r, a, c] = rolling_simulation_diag(a, s, c, d, b, traj[i:-1], forward)\n",
    "            list_theta_l += next_theta_l\n",
    "            list_theta_r += next_theta_r\n",
    "            keep_data = False\n",
    "            break\n",
    "        # update list\n",
    "        if keep_data:\n",
    "            list_theta_l += [theta_l*180/math.pi]\n",
    "            list_theta_r += [theta_r*180/math.pi]\n",
    "        ### UNCOMMENT IF YOU WISH TO PLOT THE ANIMATION ###\n",
    "        # plot_scene(A1,B1,C1,D1,E1,F1,G1,H1)\n",
    "        ###################################################\n",
    "    return [list_theta_l, list_theta_r, a, c]\n",
    "\n",
    "# WHEN THE SQUARE IS HANGING FROM OPPOSITE CORNER\n",
    "\n",
    "def rolling_simulation_diag(a, b, c, d, s, traj, forward):\n",
    "    \"\"\"a:left ; b:diag ; c:right ; d:bottom ; f:side\"\"\"\n",
    "    keep_data = True\n",
    "    list_theta_l = []\n",
    "    list_theta_r = []\n",
    "    len_finger = 132\n",
    "    n = len(traj)\n",
    "    for i in range(0,n):\n",
    "        theta_pos = traj[i]\n",
    "        A1 = [0, 0]\n",
    "        D1 = [finger_gap, 0]\n",
    "        if forward:\n",
    "            theta_pos = math.pi - theta_pos\n",
    "            theta_follow = model_rolling(theta_pos,c,b,a,d)\n",
    "            theta_l = math.pi - theta_follow\n",
    "            theta_r = math.pi - theta_pos\n",
    "        else:\n",
    "            theta_follow = model_rolling(theta_pos,a,b,c,d)\n",
    "            theta_r = theta_follow\n",
    "            theta_l = theta_pos\n",
    "        B1 = [a*math.cos(theta_l), a*math.sin(theta_l)]\n",
    "        C1 = [finger_gap + c*math.cos(theta_r), c*math.sin(theta_r)]\n",
    "        # square\n",
    "        [E1, F1] = square_generation(B1,C1, b)\n",
    "        ### finger ends\n",
    "        G1 = [len_finger*math.cos(theta_l), len_finger*math.sin(theta_l)]\n",
    "        H1 = [finger_gap + len_finger*math.cos(theta_r), len_finger*math.sin(theta_r)]\n",
    "\n",
    "        # if a corner is identified\n",
    "        if corner_identification(C1,D1,F1):\n",
    "            c = c+s\n",
    "            [next_theta_l, next_theta_r, a, c] = rolling_simulation_side(a, s, c, d, b, traj[i:-1], forward)\n",
    "            list_theta_l += next_theta_l\n",
    "            list_theta_r += next_theta_r\n",
    "            keep_data = False\n",
    "            break\n",
    "        elif corner_identification(C1,H1,E1):\n",
    "            c = c-s\n",
    "            rolling_simulation_diag(a, s, c, d, b, traj[i:-1], forward)\n",
    "            keep_data = False\n",
    "            break\n",
    "        elif corner_identification(B1,A1,F1):\n",
    "            a = a+s\n",
    "            [next_theta_l, next_theta_r, a, c] = rolling_simulation_side(a, s, c, d, b, traj[i:-1], forward)\n",
    "            list_theta_l += next_theta_l\n",
    "            list_theta_r += next_theta_r\n",
    "            keep_data = False\n",
    "            break\n",
    "\n",
    "        # update list\n",
    "        if keep_data:\n",
    "            list_theta_l += [theta_l*180/math.pi]\n",
    "            list_theta_r += [theta_r*180/math.pi]\n",
    "        ### UNCOMMENT IF YOU WISH TO PLOT THE ANIMATION ###\n",
    "        # plot_scene(A1,B1,C1,D1,E1,F1,G1,H1)\n",
    "        ###################################################\n",
    "    return [list_theta_l, list_theta_r, a, c]\n",
    "\n",
    "\n",
    "def manipulation_simulation(sqrt_dim, ini_drf, gap, minang, maxang):\n",
    "    ## initalisation\n",
    "    clockwise = True\n",
    "    increasing = True\n",
    "    trajectory_increasing = list_of_angle(minang,maxang,increasing)\n",
    "    trajectory_decreasing = list_of_angle(maxang,minang,not increasing)\n",
    "    ## geometry\n",
    "    sqrt_diag = math.sqrt(2)*sqrt_dim # square's diagonal\n",
    "    drf = ini_drf\n",
    "    dlf = ini_left_contact(sqrt_dim,ini_drf,gap) # bottom left finger to contact point\n",
    "    ang90 = deg2rad(90)\n",
    "    ## first clockwise motion\n",
    "    trajectory = [element for element in trajectory_decreasing if element < ang90]\n",
    "    [pos_l, pos_r, dlf, drf] = rolling_simulation_diag(dlf, sqrt_diag, drf, finger_gap, sqrt_dim, trajectory, clockwise)\n",
    "    #### anticlockwise motion\n",
    "    [next_pos_l, next_pos_r, dlf, drf] = rolling_simulation_diag(dlf, sqrt_diag, drf, finger_gap, sqrt_dim, trajectory_increasing, not clockwise)\n",
    "    pos_l += next_pos_l\n",
    "    pos_r += next_pos_r\n",
    "    #### anticlockwise motion\n",
    "    [next_pos_l, next_pos_r, dlf, drf] = rolling_simulation_diag(dlf, sqrt_diag, drf, finger_gap, sqrt_dim, trajectory_decreasing, clockwise)\n",
    "    pos_l += next_pos_l\n",
    "    pos_r += next_pos_r\n",
    "    ### final plot of the angle evolution\n",
    "    plot_pos_evol(pos_l,pos_r)\n",
    "    return [pos_l,pos_r]"
   ]
  },
  {
   "cell_type": "markdown",
   "metadata": {},
   "source": [
    "# PERFORM SIMULATION"
   ]
  },
  {
   "cell_type": "code",
   "execution_count": 12,
   "metadata": {},
   "outputs": [
    {
     "data": {
      "image/png": "[encoded data removed]",
      "text/plain": [
       "<Figure size 432x288 with 1 Axes>"
      ]
     },
     "metadata": {
      "needs_background": "light"
     },
     "output_type": "display_data"
    }
   ],
   "source": [
    "# INITIALIZATION\n",
    "sqrt_side = 25\n",
    "initial_drf = 60 # bottom right finger to contact point\n",
    "finger_gap = 50 # width between fingers\n",
    "min_ang = 40\n",
    "max_ang = 140\n",
    "\n",
    "# Perform the simulation\n",
    "[data_pos_L,data_pos_R] = manipulation_simulation(sqrt_side, initial_drf, finger_gap, min_ang, max_ang)\n",
    "\n",
    "# STORE THE DATA  INTO A JSON FILE\n",
    "data_pos_sim = {\n",
    "    \"LF\": data_pos_L,\n",
    "    \"RF\": data_pos_R,\n",
    "}"
   ]
  },
  {
   "cell_type": "markdown",
   "metadata": {},
   "source": [
    "# STORE DATA\n",
    "## INITIALIZE THE JSON FILE !!!!!!!!!"
   ]
  },
  {
   "cell_type": "code",
   "execution_count": 16,
   "metadata": {},
   "outputs": [],
   "source": [
    "with open(\"data_pos_sim.json\", 'w') as f:\n",
    "    indent = 2  # is not needed but makes the file human-readable\n",
    "    json.dump(data_pos_sim, f, indent=2)"
   ]
  },
  {
   "cell_type": "markdown",
   "metadata": {},
   "source": [
    "## ADD TO THE JSON FILE"
   ]
  },
  {
   "cell_type": "code",
   "execution_count": 1,
   "metadata": {
    "pycharm": {
     "name": "#%%\n"
    }
   },
   "outputs": [
    {
     "name": "stdout",
     "output_type": "stream",
     "text": [
      "diag  88.60022573334675 35.35533905932738 60 50\n",
      "diag  88.60022573334675 35.35533905932738 60 50\n",
      "side  88.60022573334675 25 85 50\n",
      "diag  63.60022573334675 35.35533905932738 85 50\n",
      "diag  63.60022573334675 35.35533905932738 85 50\n",
      "side  88.60022573334675 25 85 50\n",
      "diag  88.60022573334675 35.35533905932738 60 50\n"
     ]
    },
    {
     "data": {
      "image/png": "[encoded data removed]",
      "text/plain": [
       "<Figure size 432x288 with 1 Axes>"
      ]
     },
     "metadata": {
      "needs_background": "light"
     },
     "output_type": "display_data"
    },
    {
     "data": {
      "text/plain": [
       "'\\n# STORE THE DATA  INTO A JSON FILE\\ndata_pos = {\\n    filename: {\\n        \"LF\": data_pos_L,\\n        \"RF\": data_pos_R,\\n        \"corners\": corner\\n    }\\n}\\n\\n# INITIALIZATION\\nwith open(\"data_pos.json\", \\'w\\') as f:\\n    indent = 2  # is not needed but makes the file human-readable\\n    json.dump(data_pos, f, indent=2)\\n\\n# ONCE INITIALIZED\\n\\n#with open(\"data_pos.json\", \\'r+\\') as f:\\n#    # indent=2 is not needed but makes the file human-readable\\n#    data_pos_final = json.load(f)\\n#    data_pos_final.update(data_pos)\\n#    f.seek(0)\\n#    json.dump(data_pos_final, f, indent=2)\\n\\n'"
      ]
     },
     "execution_count": 1,
     "metadata": {},
     "output_type": "execute_result"
    }
   ],
   "source": [
    "with open(\"data_pos.json\", 'r+') as f:\n",
    "   # indent=2 is not needed but makes the file human-readable\n",
    "    data_pos_final = json.load(f)\n",
    "    data_pos_final.update(data_pos)\n",
    "    f.seek(0)\n",
    "    json.dump(data_pos_final, f, indent=2)"
   ]
  }
 ],
 "metadata": {
  "kernelspec": {
   "display_name": "Python 3",
   "language": "python",
   "name": "python3"
  },
  "language_info": {
   "codemirror_mode": {
    "name": "ipython",
    "version": 3
   },
   "file_extension": ".py",
   "mimetype": "text/x-python",
   "name": "python",
   "nbconvert_exporter": "python",
   "pygments_lexer": "ipython3",
   "version": "3.9.1"
  }
 },
 "nbformat": 4,
 "nbformat_minor": 1
}
