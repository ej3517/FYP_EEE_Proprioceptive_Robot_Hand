{
 "cells": [
  {
   "cell_type": "code",
   "execution_count": null,
   "metadata": {
    "collapsed": true
   },
   "outputs": [],
   "source": [
    "import matplotlib.pyplot as plt\n",
    "import numpy as np\n",
    "import math\n",
    "\n",
    "def model_vf(theta_LF,w_o,w_p,F_w,d_LF,A_BC):\n",
    "    #### First Equation ####\n",
    "    theta_LF2 = math.pi - (theta_LF + math.atan((w_o+F_w)/d_LF))\n",
    "    #### Second Equation ####\n",
    "    d_RF = math.sqrt(F_w^2+(A_BC^2+w_p^2+2*A_BC*w_p*math.cos(theta_LF2)))\n",
    "    #### Third Equation ####\n",
    "    theta_VF = math.acos((d_RF^2+w_p^2-A_BC^2)/(2*d_RF*w_p))\n",
    "    \n",
    "\n",
    "w_o = 25.4\n",
    "d_LF = 62 \n",
    "                           \n",
    "                       \n",
    "\n",
    "\n"
   ]
  }
 ],
 "metadata": {
  "kernelspec": {
   "display_name": "Python 3",
   "language": "python",
   "name": "python3"
  },
  "language_info": {
   "codemirror_mode": {
    "name": "ipython",
    "version": 2
   },
   "file_extension": ".py",
   "mimetype": "text/x-python",
   "name": "python",
   "nbconvert_exporter": "python",
   "pygments_lexer": "ipython2",
   "version": "2.7.6"
  },
  "pycharm": {
   "stem_cell": {
    "cell_type": "raw",
    "source": [],
    "metadata": {
     "collapsed": false
    }
   }
  }
 },
 "nbformat": 4,
 "nbformat_minor": 0
}