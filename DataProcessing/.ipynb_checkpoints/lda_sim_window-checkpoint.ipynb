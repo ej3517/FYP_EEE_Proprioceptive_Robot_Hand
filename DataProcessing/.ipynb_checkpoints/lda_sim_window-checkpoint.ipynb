{
 "cells": [
  {
   "cell_type": "markdown",
   "id": "foster-supplier",
   "metadata": {},
   "source": [
    "### https://towardsdatascience.com/linear-discriminant-analysis-in-python-76b8b17817c2"
   ]
  },
  {
   "cell_type": "markdown",
   "id": "corresponding-lounge",
   "metadata": {},
   "source": [
    "# LOADING LIBRARIES"
   ]
  },
  {
   "cell_type": "code",
   "execution_count": 165,
   "id": "dated-database",
   "metadata": {},
   "outputs": [],
   "source": [
    "import json\n",
    "import math\n",
    "import matplotlib.pyplot as plt\n",
    "import numpy as np\n",
    "import pandas as pd\n",
    "import seaborn as sns\n",
    "from sklearn.datasets import load_wine\n",
    "np.set_printoptions(precision=4)\n",
    "sns.set()\n",
    "from sklearn.preprocessing import LabelEncoder\n",
    "from sklearn.tree import DecisionTreeClassifier\n",
    "from sklearn.model_selection import train_test_split\n",
    "from sklearn.metrics import confusion_matrix"
   ]
  },
  {
   "cell_type": "markdown",
   "id": "sporting-flash",
   "metadata": {},
   "source": [
    "# Dataset "
   ]
  },
  {
   "cell_type": "code",
   "execution_count": 166,
   "id": "hollywood-arabic",
   "metadata": {},
   "outputs": [
    {
     "data": {
      "text/html": [
       "<div>\n",
       "<style scoped>\n",
       "    .dataframe tbody tr th:only-of-type {\n",
       "        vertical-align: middle;\n",
       "    }\n",
       "\n",
       "    .dataframe tbody tr th {\n",
       "        vertical-align: top;\n",
       "    }\n",
       "\n",
       "    .dataframe thead th {\n",
       "        text-align: right;\n",
       "    }\n",
       "</style>\n",
       "<table border=\"1\" class=\"dataframe\">\n",
       "  <thead>\n",
       "    <tr style=\"text-align: right;\">\n",
       "      <th></th>\n",
       "      <th>angleLF1</th>\n",
       "      <th>angleLF2</th>\n",
       "      <th>angleLF3</th>\n",
       "      <th>angleLF4</th>\n",
       "      <th>angleLF5</th>\n",
       "      <th>angleRF1</th>\n",
       "      <th>angleRF2</th>\n",
       "      <th>angleRF3</th>\n",
       "      <th>angleRF4</th>\n",
       "      <th>angleRF5</th>\n",
       "      <th>class</th>\n",
       "    </tr>\n",
       "  </thead>\n",
       "  <tbody>\n",
       "    <tr>\n",
       "      <th>0</th>\n",
       "      <td>40.0</td>\n",
       "      <td>41.0</td>\n",
       "      <td>42.0</td>\n",
       "      <td>43.0</td>\n",
       "      <td>44.0</td>\n",
       "      <td>38.216855</td>\n",
       "      <td>39.705104</td>\n",
       "      <td>41.189086</td>\n",
       "      <td>42.669395</td>\n",
       "      <td>44.146616</td>\n",
       "      <td>side</td>\n",
       "    </tr>\n",
       "    <tr>\n",
       "      <th>1</th>\n",
       "      <td>41.0</td>\n",
       "      <td>42.0</td>\n",
       "      <td>43.0</td>\n",
       "      <td>44.0</td>\n",
       "      <td>45.0</td>\n",
       "      <td>39.705104</td>\n",
       "      <td>41.189086</td>\n",
       "      <td>42.669395</td>\n",
       "      <td>44.146616</td>\n",
       "      <td>45.621328</td>\n",
       "      <td>side</td>\n",
       "    </tr>\n",
       "    <tr>\n",
       "      <th>2</th>\n",
       "      <td>42.0</td>\n",
       "      <td>43.0</td>\n",
       "      <td>44.0</td>\n",
       "      <td>45.0</td>\n",
       "      <td>46.0</td>\n",
       "      <td>41.189086</td>\n",
       "      <td>42.669395</td>\n",
       "      <td>44.146616</td>\n",
       "      <td>45.621328</td>\n",
       "      <td>47.094103</td>\n",
       "      <td>side</td>\n",
       "    </tr>\n",
       "    <tr>\n",
       "      <th>3</th>\n",
       "      <td>43.0</td>\n",
       "      <td>44.0</td>\n",
       "      <td>45.0</td>\n",
       "      <td>46.0</td>\n",
       "      <td>47.0</td>\n",
       "      <td>42.669395</td>\n",
       "      <td>44.146616</td>\n",
       "      <td>45.621328</td>\n",
       "      <td>47.094103</td>\n",
       "      <td>48.565513</td>\n",
       "      <td>side</td>\n",
       "    </tr>\n",
       "    <tr>\n",
       "      <th>4</th>\n",
       "      <td>44.0</td>\n",
       "      <td>45.0</td>\n",
       "      <td>46.0</td>\n",
       "      <td>47.0</td>\n",
       "      <td>48.0</td>\n",
       "      <td>44.146616</td>\n",
       "      <td>45.621328</td>\n",
       "      <td>47.094103</td>\n",
       "      <td>48.565513</td>\n",
       "      <td>50.036130</td>\n",
       "      <td>side</td>\n",
       "    </tr>\n",
       "  </tbody>\n",
       "</table>\n",
       "</div>"
      ],
      "text/plain": [
       "   angleLF1  angleLF2  angleLF3  angleLF4  angleLF5   angleRF1   angleRF2  \\\n",
       "0      40.0      41.0      42.0      43.0      44.0  38.216855  39.705104   \n",
       "1      41.0      42.0      43.0      44.0      45.0  39.705104  41.189086   \n",
       "2      42.0      43.0      44.0      45.0      46.0  41.189086  42.669395   \n",
       "3      43.0      44.0      45.0      46.0      47.0  42.669395  44.146616   \n",
       "4      44.0      45.0      46.0      47.0      48.0  44.146616  45.621328   \n",
       "\n",
       "    angleRF3   angleRF4   angleRF5 class  \n",
       "0  41.189086  42.669395  44.146616  side  \n",
       "1  42.669395  44.146616  45.621328  side  \n",
       "2  44.146616  45.621328  47.094103  side  \n",
       "3  45.621328  47.094103  48.565513  side  \n",
       "4  47.094103  48.565513  50.036130  side  "
      ]
     },
     "execution_count": 166,
     "metadata": {},
     "output_type": "execute_result"
    }
   ],
   "source": [
    "# TAKE THE DATA FROM JSON\n",
    "with open('../Simulation/data_pos_sim_labelled_sep_motion.json') as f:\n",
    "    data_dict = json.load(f)\n",
    "\n",
    "data_list = [data_dict['LF_motion1'],data_dict['RF_motion1']]\n",
    "data_array = np.array(data_list).T\n",
    "temp_data_array = np.append(data_array[np.newaxis,0,:,0],data_array[np.newaxis,0,:,1],axis=0)\n",
    "data_array = np.append(temp_data_array,data_array[np.newaxis,1,:,1],axis=0).T\n",
    "angle_array = data_array[:,:2].astype(float)\n",
    "\n",
    "# CREATE A DATAFRAME BY WINDOWING THE RAW AND INCREMENTING THE POSITION OF THE WINDOW\n",
    "rows,columns = data_array.shape\n",
    "window_size = 5 # needs to be odd\n",
    "half_window_size = math.floor(window_size/2)\n",
    "data_window = np.zeros((rows-half_window_size*2,window_size*2+1)) #+1 for the class\n",
    "corners = []\n",
    "sides = []\n",
    "\n",
    "for i in range(half_window_size,rows-half_window_size):\n",
    "    temp_window = np.append(data_array[i-half_window_size:half_window_size+i+1,:].T[0],\n",
    "                            data_array[i-half_window_size:half_window_size+i+1,:].T[1])\n",
    "    if 'corner' in data_array[i-half_window_size:half_window_size+i+1,:].T[2]:\n",
    "        # CLASS 2 IS THE CORNER\n",
    "        corners += [angle_array[i].tolist()]\n",
    "        data_window[i-half_window_size] = np.append(temp_window,np.array([2]))\n",
    "    else :\n",
    "        # CLASS 1 IS THE SIDE\n",
    "        sides += [angle_array[i].tolist()]\n",
    "        data_window[i-half_window_size] = np.append(temp_window,np.array([1]))\n",
    "\n",
    "#print(data_window)\n",
    "names = []\n",
    "for j in range(window_size):\n",
    "    names += [\"angleLF\"+str(j+1)]\n",
    "for j in range(window_size):\n",
    "    names += [\"angleRF\"+str(j+1)]\n",
    "names += [\"class\"]\n",
    "\n",
    "# DATA FRAME PANDAS\n",
    "df = pd.DataFrame(data=data_window,columns = names)\n",
    "df[\"class\"].replace({1.0: \"side\", 2.0: \"corner\"}, inplace=True)\n",
    "df.dropna(how='all', inplace=True)\n",
    "windows = df[names[:len(names)-1]]\n",
    "labels = df[names[-1]]\n",
    "\n",
    "corners_pos = np.array(corners)\n",
    "sides_pos = np.array(sides)\n",
    "\n",
    "df.head()\n",
    "#windows.head()\n",
    "#labels.head()\n"
   ]
  },
  {
   "cell_type": "markdown",
   "id": "nutritional-immune",
   "metadata": {},
   "source": [
    "# Plot the positions of the finger"
   ]
  },
  {
   "cell_type": "code",
   "execution_count": 167,
   "id": "simplified-trance",
   "metadata": {},
   "outputs": [
    {
     "data": {
      "image/png": "[encoded data removed]",
      "text/plain": [
       "<Figure size 432x288 with 1 Axes>"
      ]
     },
     "metadata": {},
     "output_type": "display_data"
    }
   ],
   "source": [
    "fig = plt.figure()\n",
    "ax = fig.add_subplot(111)\n",
    "ax.scatter(sides_pos.T[0],sides_pos.T[1],color='b',marker='+')\n",
    "ax.scatter(corners_pos.T[0],corners_pos.T[1],color='r',marker='+')\n",
    "plt.title(\"Visualise data after PCA\")\n",
    "plt.ylabel(r'$\\theta_R$')\n",
    "plt.xlabel(r'$\\theta_L$')\n",
    "plt.grid()\n",
    "plt.show()"
   ]
  },
  {
   "cell_type": "markdown",
   "id": "vanilla-circumstances",
   "metadata": {},
   "source": [
    "# Standardizing the Data"
   ]
  },
  {
   "cell_type": "code",
   "execution_count": 168,
   "id": "major-concentrate",
   "metadata": {},
   "outputs": [],
   "source": [
    "def standardize_data(arr): \n",
    "    '''\n",
    "    This function standardize an array, its substracts mean value, \n",
    "    and then divide the standard deviation.\n",
    "    param 1: array \n",
    "    return: standardized array\n",
    "    '''    \n",
    "    rows, columns = arr.shape\n",
    "    standardizedArray = np.zeros(shape=(rows, columns))\n",
    "    tempArray = np.zeros(rows)\n",
    "    for column in range(columns):  \n",
    "        mean = np.mean(arr[:,column])\n",
    "        std = np.std(arr[:,column])\n",
    "        tempArray = np.empty(0)\n",
    "        for element in arr[:,column]:\n",
    "            tempArray = np.append(tempArray, ((element - mean) / std))\n",
    "        standardizedArray[:,column] = tempArray\n",
    "    return standardizedArray\n",
    "\n",
    "# Standardizing data\n",
    "X = df.iloc[:, 0:-1].values\n",
    "X_std = standardize_data(X)"
   ]
  },
  {
   "cell_type": "markdown",
   "id": "important-driving",
   "metadata": {},
   "source": [
    "# LDA with sklearn"
   ]
  },
  {
   "cell_type": "code",
   "execution_count": 169,
   "id": "quarterly-acting",
   "metadata": {},
   "outputs": [
    {
     "data": {
      "text/plain": [
       "array([1.])"
      ]
     },
     "execution_count": 169,
     "metadata": {},
     "output_type": "execute_result"
    }
   ],
   "source": [
    "# Preparation of the data for LDA\n",
    "le = LabelEncoder()\n",
    "y = le.fit_transform(df['class'])\n",
    "\n",
    "# Import LDA from sklearn\n",
    "from sklearn.discriminant_analysis import LinearDiscriminantAnalysis\n",
    "lda = LinearDiscriminantAnalysis()\n",
    "lda_X = lda.fit_transform(X_std, y)\n",
    "lda.explained_variance_ratio_\n",
    "# = LinearDiscriminantAnalysis()\n",
    "#test_lda.fit(X_std,y)"
   ]
  },
  {
   "cell_type": "markdown",
   "id": "corporate-sewing",
   "metadata": {},
   "source": [
    "# Plot projection on feature vectors"
   ]
  },
  {
   "cell_type": "code",
   "execution_count": 171,
   "id": "civilian-change",
   "metadata": {
    "scrolled": true
   },
   "outputs": [
    {
     "data": {
      "text/plain": [
       "<matplotlib.legend.Legend at 0x7fcbcee1b730>"
      ]
     },
     "execution_count": 171,
     "metadata": {},
     "output_type": "execute_result"
    },
    {
     "data": {
      "image/png": "[encoded data removed]",
      "text/plain": [
       "<Figure size 432x288 with 1 Axes>"
      ]
     },
     "metadata": {},
     "output_type": "display_data"
    }
   ],
   "source": [
    "fig, ax = plt.subplots()\n",
    "ax.axes.yaxis.set_ticks([])\n",
    "plt.ylabel('LD1')\n",
    "plt.scatter(lda_X[y==0], np.full((len(lda_X[y==0]),),1.0), color='b', label='corner')\n",
    "plt.scatter(lda_X[y==1], np.full((len(lda_X[y==1]),),1.0), color='r', label='side')\n",
    "plt.plot([-1.4,-1.4],[0.9,1.1],'--',color='g')\n",
    "plt.ylim(0.9,1.1)\n",
    "ax.legend()"
   ]
  },
  {
   "cell_type": "markdown",
   "id": "hundred-pierce",
   "metadata": {},
   "source": [
    "#### The 2 classes are now separated on a1D line\n",
    "\n",
    "- But the divisions between groups is pretty obvious in this case \n",
    "- We can manually estimate it in the 1D case\n",
    "- But the data can now be passed to a clustering algorithm \n",
    "- Which will have an easier job than with the original data\n"
   ]
  },
  {
   "cell_type": "markdown",
   "id": "systematic-corrections",
   "metadata": {},
   "source": [
    "# Clustering algorithm"
   ]
  },
  {
   "cell_type": "code",
   "execution_count": 160,
   "id": "progressive-adapter",
   "metadata": {},
   "outputs": [],
   "source": [
    "from sklearn.cluster import KMeans\n",
    "kmeans = KMeans(n_clusters=2, init ='k-means++', max_iter=300, n_init=10,random_state=0 )\n",
    "y_kmeans = kmeans.fit_predict(lda_X)"
   ]
  },
  {
   "cell_type": "markdown",
   "id": "fixed-result",
   "metadata": {},
   "source": [
    "# Visualizing the clusters"
   ]
  },
  {
   "cell_type": "code",
   "execution_count": 209,
   "id": "nonprofit-alignment",
   "metadata": {},
   "outputs": [
    {
     "data": {
      "text/plain": [
       "<matplotlib.legend.Legend at 0x7fcbd0f89d00>"
      ]
     },
     "execution_count": 209,
     "metadata": {},
     "output_type": "execute_result"
    },
    {
     "data": {
      "image/png": "[encoded data removed]",
      "text/plain": [
       "<Figure size 432x288 with 1 Axes>"
      ]
     },
     "metadata": {},
     "output_type": "display_data"
    }
   ],
   "source": [
    "fig, ax = plt.subplots()\n",
    "ax.axes.yaxis.set_ticks([])\n",
    "plt.ylabel('LD1 after k-means clustering')\n",
    "plt.scatter(lda_X[y==0], np.full((len(lda_X[y==0]),),2), color='orange', label='corner')\n",
    "plt.scatter(lda_X[y==1], np.full((len(lda_X[y==1]),),2), color='purple', label='side')\n",
    "plt.scatter(lda_X[y_kmeans==0], np.full((len(lda_X[y_kmeans==0]),),1.0), c='red', label ='Cluster 1')\n",
    "plt.scatter(lda_X[y_kmeans==1], np.full((len(lda_X[y_kmeans==1]),),1.0), c='blue', label ='Cluster 2')\n",
    "plt.scatter(kmeans.cluster_centers_[:, 0], np.full((len(kmeans.cluster_centers_[:, 0]),),1.0), c='green', marker='x',label = 'Centroids')\n",
    "plt.plot([-1.4,-1.4],[0,4],'--',color='g')\n",
    "plt.ylim(0,4)\n",
    "ax.legend()\n",
    "#Plot the centroid. This time we're going to use the cluster centres  #attribute that returns here the coordinates of the centroid.\n"
   ]
  },
  {
   "cell_type": "markdown",
   "id": "important-hungarian",
   "metadata": {},
   "source": [
    "# Performance of the k-means clustering algorithm"
   ]
  },
  {
   "cell_type": "markdown",
   "id": "adaptive-uniform",
   "metadata": {},
   "source": [
    "# In the case you want to do it manually"
   ]
  },
  {
   "cell_type": "code",
   "execution_count": 45,
   "id": "alone-start",
   "metadata": {},
   "outputs": [
    {
     "data": {
      "text/html": [
       "<div>\n",
       "<style scoped>\n",
       "    .dataframe tbody tr th:only-of-type {\n",
       "        vertical-align: middle;\n",
       "    }\n",
       "\n",
       "    .dataframe tbody tr th {\n",
       "        vertical-align: top;\n",
       "    }\n",
       "\n",
       "    .dataframe thead th {\n",
       "        text-align: right;\n",
       "    }\n",
       "</style>\n",
       "<table border=\"1\" class=\"dataframe\">\n",
       "  <thead>\n",
       "    <tr style=\"text-align: right;\">\n",
       "      <th></th>\n",
       "      <th>side</th>\n",
       "      <th>corner</th>\n",
       "    </tr>\n",
       "  </thead>\n",
       "  <tbody>\n",
       "    <tr>\n",
       "      <th>angleLF1</th>\n",
       "      <td>87.869048</td>\n",
       "      <td>75.000000</td>\n",
       "    </tr>\n",
       "    <tr>\n",
       "      <th>angleLF2</th>\n",
       "      <td>88.869048</td>\n",
       "      <td>76.000000</td>\n",
       "    </tr>\n",
       "    <tr>\n",
       "      <th>angleLF3</th>\n",
       "      <td>89.869048</td>\n",
       "      <td>77.000000</td>\n",
       "    </tr>\n",
       "    <tr>\n",
       "      <th>angleLF4</th>\n",
       "      <td>90.869048</td>\n",
       "      <td>78.000000</td>\n",
       "    </tr>\n",
       "    <tr>\n",
       "      <th>angleLF5</th>\n",
       "      <td>91.869048</td>\n",
       "      <td>79.000000</td>\n",
       "    </tr>\n",
       "    <tr>\n",
       "      <th>angleRF1</th>\n",
       "      <td>95.710595</td>\n",
       "      <td>90.482112</td>\n",
       "    </tr>\n",
       "    <tr>\n",
       "      <th>angleRF2</th>\n",
       "      <td>96.715493</td>\n",
       "      <td>91.838239</td>\n",
       "    </tr>\n",
       "    <tr>\n",
       "      <th>angleRF3</th>\n",
       "      <td>97.724740</td>\n",
       "      <td>93.085030</td>\n",
       "    </tr>\n",
       "    <tr>\n",
       "      <th>angleRF4</th>\n",
       "      <td>98.738635</td>\n",
       "      <td>94.220319</td>\n",
       "    </tr>\n",
       "    <tr>\n",
       "      <th>angleRF5</th>\n",
       "      <td>99.757535</td>\n",
       "      <td>95.241369</td>\n",
       "    </tr>\n",
       "  </tbody>\n",
       "</table>\n",
       "</div>"
      ],
      "text/plain": [
       "               side     corner\n",
       "angleLF1  87.869048  75.000000\n",
       "angleLF2  88.869048  76.000000\n",
       "angleLF3  89.869048  77.000000\n",
       "angleLF4  90.869048  78.000000\n",
       "angleLF5  91.869048  79.000000\n",
       "angleRF1  95.710595  90.482112\n",
       "angleRF2  96.715493  91.838239\n",
       "angleRF3  97.724740  93.085030\n",
       "angleRF4  98.738635  94.220319\n",
       "angleRF5  99.757535  95.241369"
      ]
     },
     "execution_count": 45,
     "metadata": {},
     "output_type": "execute_result"
    }
   ],
   "source": [
    "labels_feature_means = pd.DataFrame(columns=np.array([\"side\",\"corner\"]))\n",
    "\n",
    "for c, rows in df.groupby('class'):\n",
    "    labels_feature_means[c] = rows.mean()\n",
    "labels_feature_means "
   ]
  }
 ],
 "metadata": {
  "kernelspec": {
   "display_name": "Python 3",
   "language": "python",
   "name": "python3"
  },
  "language_info": {
   "codemirror_mode": {
    "name": "ipython",
    "version": 3
   },
   "file_extension": ".py",
   "mimetype": "text/x-python",
   "name": "python",
   "nbconvert_exporter": "python",
   "pygments_lexer": "ipython3",
   "version": "3.9.1"
  }
 },
 "nbformat": 4,
 "nbformat_minor": 5
}
