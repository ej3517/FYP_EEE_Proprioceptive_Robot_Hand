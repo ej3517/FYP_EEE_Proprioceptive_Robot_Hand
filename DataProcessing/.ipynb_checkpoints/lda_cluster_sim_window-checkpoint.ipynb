{
 "cells": [
  {
   "cell_type": "markdown",
   "id": "foster-supplier",
   "metadata": {},
   "source": [
    "### https://towardsdatascience.com/linear-discriminant-analysis-in-python-76b8b17817c2"
   ]
  },
  {
   "cell_type": "markdown",
   "id": "corresponding-lounge",
   "metadata": {},
   "source": [
    "# LOADING LIBRARIES"
   ]
  },
  {
   "cell_type": "code",
   "execution_count": 32,
   "id": "dated-database",
   "metadata": {},
   "outputs": [],
   "source": [
    "import json\n",
    "import math\n",
    "import matplotlib.pyplot as plt\n",
    "import numpy as np\n",
    "import pandas as pd\n",
    "import seaborn as sns\n",
    "from sklearn.datasets import load_wine\n",
    "np.set_printoptions(precision=4)\n",
    "sns.set()\n",
    "from sklearn.preprocessing import LabelEncoder\n",
    "from sklearn.tree import DecisionTreeClassifier\n",
    "from sklearn.model_selection import train_test_split\n",
    "from sklearn.metrics import confusion_matrix"
   ]
  },
  {
   "cell_type": "markdown",
   "id": "sporting-flash",
   "metadata": {},
   "source": [
    "# Dataset "
   ]
  },
  {
   "cell_type": "code",
   "execution_count": 33,
   "id": "hollywood-arabic",
   "metadata": {},
   "outputs": [
    {
     "data": {
      "text/html": [
       "<div>\n",
       "<style scoped>\n",
       "    .dataframe tbody tr th:only-of-type {\n",
       "        vertical-align: middle;\n",
       "    }\n",
       "\n",
       "    .dataframe tbody tr th {\n",
       "        vertical-align: top;\n",
       "    }\n",
       "\n",
       "    .dataframe thead th {\n",
       "        text-align: right;\n",
       "    }\n",
       "</style>\n",
       "<table border=\"1\" class=\"dataframe\">\n",
       "  <thead>\n",
       "    <tr style=\"text-align: right;\">\n",
       "      <th></th>\n",
       "      <th>angleLF1</th>\n",
       "      <th>angleLF2</th>\n",
       "      <th>angleLF3</th>\n",
       "      <th>angleLF4</th>\n",
       "      <th>angleLF5</th>\n",
       "      <th>angleRF1</th>\n",
       "      <th>angleRF2</th>\n",
       "      <th>angleRF3</th>\n",
       "      <th>angleRF4</th>\n",
       "      <th>angleRF5</th>\n",
       "      <th>class</th>\n",
       "    </tr>\n",
       "  </thead>\n",
       "  <tbody>\n",
       "    <tr>\n",
       "      <th>0</th>\n",
       "      <td>40.0</td>\n",
       "      <td>41.0</td>\n",
       "      <td>42.0</td>\n",
       "      <td>43.0</td>\n",
       "      <td>44.0</td>\n",
       "      <td>38.216855</td>\n",
       "      <td>39.705104</td>\n",
       "      <td>41.189086</td>\n",
       "      <td>42.669395</td>\n",
       "      <td>44.146616</td>\n",
       "      <td>side</td>\n",
       "    </tr>\n",
       "    <tr>\n",
       "      <th>1</th>\n",
       "      <td>41.0</td>\n",
       "      <td>42.0</td>\n",
       "      <td>43.0</td>\n",
       "      <td>44.0</td>\n",
       "      <td>45.0</td>\n",
       "      <td>39.705104</td>\n",
       "      <td>41.189086</td>\n",
       "      <td>42.669395</td>\n",
       "      <td>44.146616</td>\n",
       "      <td>45.621328</td>\n",
       "      <td>side</td>\n",
       "    </tr>\n",
       "    <tr>\n",
       "      <th>2</th>\n",
       "      <td>42.0</td>\n",
       "      <td>43.0</td>\n",
       "      <td>44.0</td>\n",
       "      <td>45.0</td>\n",
       "      <td>46.0</td>\n",
       "      <td>41.189086</td>\n",
       "      <td>42.669395</td>\n",
       "      <td>44.146616</td>\n",
       "      <td>45.621328</td>\n",
       "      <td>47.094103</td>\n",
       "      <td>side</td>\n",
       "    </tr>\n",
       "    <tr>\n",
       "      <th>3</th>\n",
       "      <td>43.0</td>\n",
       "      <td>44.0</td>\n",
       "      <td>45.0</td>\n",
       "      <td>46.0</td>\n",
       "      <td>47.0</td>\n",
       "      <td>42.669395</td>\n",
       "      <td>44.146616</td>\n",
       "      <td>45.621328</td>\n",
       "      <td>47.094103</td>\n",
       "      <td>48.565513</td>\n",
       "      <td>side</td>\n",
       "    </tr>\n",
       "    <tr>\n",
       "      <th>4</th>\n",
       "      <td>44.0</td>\n",
       "      <td>45.0</td>\n",
       "      <td>46.0</td>\n",
       "      <td>47.0</td>\n",
       "      <td>48.0</td>\n",
       "      <td>44.146616</td>\n",
       "      <td>45.621328</td>\n",
       "      <td>47.094103</td>\n",
       "      <td>48.565513</td>\n",
       "      <td>50.036130</td>\n",
       "      <td>side</td>\n",
       "    </tr>\n",
       "  </tbody>\n",
       "</table>\n",
       "</div>"
      ],
      "text/plain": [
       "   angleLF1  angleLF2  angleLF3  angleLF4  angleLF5   angleRF1   angleRF2  \\\n",
       "0      40.0      41.0      42.0      43.0      44.0  38.216855  39.705104   \n",
       "1      41.0      42.0      43.0      44.0      45.0  39.705104  41.189086   \n",
       "2      42.0      43.0      44.0      45.0      46.0  41.189086  42.669395   \n",
       "3      43.0      44.0      45.0      46.0      47.0  42.669395  44.146616   \n",
       "4      44.0      45.0      46.0      47.0      48.0  44.146616  45.621328   \n",
       "\n",
       "    angleRF3   angleRF4   angleRF5 class  \n",
       "0  41.189086  42.669395  44.146616  side  \n",
       "1  42.669395  44.146616  45.621328  side  \n",
       "2  44.146616  45.621328  47.094103  side  \n",
       "3  45.621328  47.094103  48.565513  side  \n",
       "4  47.094103  48.565513  50.036130  side  "
      ]
     },
     "execution_count": 33,
     "metadata": {},
     "output_type": "execute_result"
    }
   ],
   "source": [
    "# TAKE THE DATA FROM JSON\n",
    "with open('../Simulation/data_pos_sim_labelled_sep_motion.json') as f:\n",
    "    data_dict = json.load(f)\n",
    "\n",
    "data_list = [data_dict['LF_motion1'],data_dict['RF_motion1']]\n",
    "data_array = np.array(data_list).T\n",
    "temp_data_array = np.append(data_array[np.newaxis,0,:,0],data_array[np.newaxis,0,:,1],axis=0)\n",
    "data_array = np.append(temp_data_array,data_array[np.newaxis,1,:,1],axis=0).T\n",
    "angle_array = data_array[:,:2].astype(float)\n",
    "\n",
    "# CREATE A DATAFRAME BY WINDOWING THE RAW AND INCREMENTING THE POSITION OF THE WINDOW\n",
    "rows,columns = data_array.shape\n",
    "window_size = 5 # needs to be odd\n",
    "half_window_size = math.floor(window_size/2)\n",
    "data_window = np.zeros((rows-half_window_size*2,window_size*2+1)) #+1 for the class\n",
    "corners = []\n",
    "sides = []\n",
    "\n",
    "for i in range(half_window_size,rows-half_window_size):\n",
    "    temp_window = np.append(data_array[i-half_window_size:half_window_size+i+1,:].T[0],\n",
    "                            data_array[i-half_window_size:half_window_size+i+1,:].T[1])\n",
    "    if 'corner' in data_array[i-half_window_size:half_window_size+i+1,:].T[2]:\n",
    "        # CLASS 2 IS THE CORNER\n",
    "        corners += [angle_array[i].tolist()]\n",
    "        data_window[i-half_window_size] = np.append(temp_window,np.array([2]))\n",
    "    else :\n",
    "        # CLASS 1 IS THE SIDE\n",
    "        sides += [angle_array[i].tolist()]\n",
    "        data_window[i-half_window_size] = np.append(temp_window,np.array([1]))\n",
    "\n",
    "#print(data_window)\n",
    "names = []\n",
    "for j in range(window_size):\n",
    "    names += [\"angleLF\"+str(j+1)]\n",
    "for j in range(window_size):\n",
    "    names += [\"angleRF\"+str(j+1)]\n",
    "names += [\"class\"]\n",
    "\n",
    "# DATA FRAME PANDAS\n",
    "df = pd.DataFrame(data=data_window,columns = names)\n",
    "df[\"class\"].replace({1.0: \"side\", 2.0: \"corner\"}, inplace=True)\n",
    "df.dropna(how='all', inplace=True)\n",
    "windows = df[names[:len(names)-1]]\n",
    "labels = df[names[-1]]\n",
    "\n",
    "corners_pos = np.array(corners)\n",
    "sides_pos = np.array(sides)\n",
    "\n",
    "df.head()\n",
    "#windows.head()\n",
    "#labels.head()\n"
   ]
  },
  {
   "cell_type": "markdown",
   "id": "accomplished-reverse",
   "metadata": {},
   "source": [
    "# Plot the positions of the finger"
   ]
  },
  {
   "cell_type": "code",
   "execution_count": 47,
   "id": "coupled-holocaust",
   "metadata": {},
   "outputs": [
    {
     "data": {
      "image/png": "[encoded data removed]",
      "text/plain": [
       "<Figure size 864x576 with 1 Axes>"
      ]
     },
     "metadata": {},
     "output_type": "display_data"
    }
   ],
   "source": [
    "SMALL_SIZE = 8\n",
    "MEDIUM_SIZE = 20\n",
    "BIGGER_SIZE = 30\n",
    "\n",
    "plt.rc('font', size=BIGGER_SIZE)          # controls default text sizes\n",
    "plt.rc('axes', titlesize=BIGGER_SIZE)     # fontsize of the axes title\n",
    "plt.rc('axes', labelsize=BIGGER_SIZE)    # fontsize of the x and y labels\n",
    "plt.rc('xtick', labelsize=MEDIUM_SIZE)    # fontsize of the tick labels\n",
    "plt.rc('ytick', labelsize=MEDIUM_SIZE)    # fontsize of the tick labels\n",
    "plt.rc('legend', fontsize=BIGGER_SIZE)    # legend fontsize\n",
    "plt.rc('figure', titlesize=BIGGER_SIZE)  # fontsize of the figure title\n",
    "\n",
    "fig, ax = plt.subplots()\n",
    "plt.style.use(\"ggplot\")\n",
    "plt.rcParams[\"figure.figsize\"] = (12,8)\n",
    "plt.scatter(sides_pos.T[0],sides_pos.T[1],color='b',marker='+',label='sides')\n",
    "plt.scatter(corners_pos.T[0],corners_pos.T[1],color='r',marker='+',label='corners')\n",
    "plt.plot([sides_pos.T[0][0],sides_pos.T[0][0]],[sides_pos.T[1][0]-10,sides_pos.T[1][0]+10],'--',color='g')\n",
    "plt.plot([sides_pos.T[0][4],sides_pos.T[0][4]],[sides_pos.T[1][4]-10,sides_pos.T[1][4]+10],'--',color='g')\n",
    "plt.plot([corners_pos.T[0][0],corners_pos.T[0][0]],[corners_pos.T[1][0]-10,corners_pos.T[1][0]+10],'--',color='g')\n",
    "plt.plot([corners_pos.T[0][4],corners_pos.T[0][4]],\n",
    "         [corners_pos.T[1][4]-10,corners_pos.T[1][4]+10],'--',color='g',label='window')\n",
    "plt.ylabel(r'$\\theta_R$')\n",
    "plt.xlabel(r'$\\theta_L$')\n",
    "plt.legend(loc='lower right')\n",
    "plt.savefig(\"raw_data_window_manual_class.png\")"
   ]
  },
  {
   "cell_type": "markdown",
   "id": "apparent-guinea",
   "metadata": {},
   "source": [
    "# Standardizing the Data"
   ]
  },
  {
   "cell_type": "code",
   "execution_count": 48,
   "id": "coordinated-funeral",
   "metadata": {},
   "outputs": [],
   "source": [
    "def standardize_data(arr): \n",
    "    '''\n",
    "    This function standardize an array, its substracts mean value, \n",
    "    and then divide the standard deviation.\n",
    "    param 1: array \n",
    "    return: standardized array\n",
    "    '''    \n",
    "    rows, columns = arr.shape\n",
    "    standardizedArray = np.zeros(shape=(rows, columns))\n",
    "    tempArray = np.zeros(rows)\n",
    "    for column in range(columns):  \n",
    "        mean = np.mean(arr[:,column])\n",
    "        std = np.std(arr[:,column])\n",
    "        tempArray = np.empty(0)\n",
    "        for element in arr[:,column]:\n",
    "            tempArray = np.append(tempArray, ((element - mean) / std))\n",
    "        standardizedArray[:,column] = tempArray\n",
    "    return standardizedArray\n",
    "\n",
    "# Standardizing data\n",
    "X = df.iloc[:, 0:-1].values\n",
    "X_std = standardize_data(X)"
   ]
  },
  {
   "cell_type": "markdown",
   "id": "parallel-flower",
   "metadata": {},
   "source": [
    "# LDA with sklearn"
   ]
  },
  {
   "cell_type": "code",
   "execution_count": 49,
   "id": "italian-strike",
   "metadata": {},
   "outputs": [
    {
     "data": {
      "text/plain": [
       "array([1.])"
      ]
     },
     "execution_count": 49,
     "metadata": {},
     "output_type": "execute_result"
    }
   ],
   "source": [
    "# Preparation of the data for LDA\n",
    "le = LabelEncoder()\n",
    "y = le.fit_transform(df['class'])\n",
    "\n",
    "# Import LDA from sklearn\n",
    "from sklearn.discriminant_analysis import LinearDiscriminantAnalysis\n",
    "lda = LinearDiscriminantAnalysis()\n",
    "lda_X = lda.fit_transform(X_std, y)\n",
    "lda.explained_variance_ratio_"
   ]
  },
  {
   "cell_type": "markdown",
   "id": "iraqi-appraisal",
   "metadata": {},
   "source": [
    "# Plot projection on feature vectors"
   ]
  },
  {
   "cell_type": "code",
   "execution_count": 57,
   "id": "blocked-tongue",
   "metadata": {
    "scrolled": true
   },
   "outputs": [
    {
     "data": {
      "image/png": "[encoded data removed]",
      "text/plain": [
       "<Figure size 864x576 with 1 Axes>"
      ]
     },
     "metadata": {},
     "output_type": "display_data"
    }
   ],
   "source": [
    "SMALL_SIZE = 8\n",
    "MEDIUM_SIZE = 20\n",
    "BIGGER_SIZE = 30\n",
    "\n",
    "plt.rc('font', size=BIGGER_SIZE)          # controls default text sizes\n",
    "plt.rc('axes', titlesize=BIGGER_SIZE)     # fontsize of the axes title\n",
    "plt.rc('axes', labelsize=BIGGER_SIZE)    # fontsize of the x and y labels\n",
    "plt.rc('xtick', labelsize=MEDIUM_SIZE)    # fontsize of the tick labels\n",
    "plt.rc('ytick', labelsize=MEDIUM_SIZE)    # fontsize of the tick labels\n",
    "plt.rc('legend', fontsize=MEDIUM_SIZE)    # legend fontsize\n",
    "plt.rc('figure', titlesize=BIGGER_SIZE)  # fontsize of the figure title\n",
    "\n",
    "fig, ax = plt.subplots()\n",
    "plt.style.use(\"ggplot\")\n",
    "plt.rcParams[\"figure.figsize\"] = (12,8)\n",
    "ax.axes.yaxis.set_ticks([])\n",
    "plt.ylabel('LD1')\n",
    "plt.scatter(lda_X[y==0], np.full((len(lda_X[y==0]),),1.0), s=100, color='b', label='corner')\n",
    "plt.scatter(lda_X[y==1], np.full((len(lda_X[y==1]),),1.0), s=100, color='r', label='side')\n",
    "plt.plot([-1.4,-1.4],[0.9,1.1],'--',color='g')\n",
    "plt.ylim(0.9,1.1)\n",
    "ax.legend()\n",
    "plt.savefig(\"1D_LDA_proj_std_angles_windowing.png\")"
   ]
  },
  {
   "cell_type": "markdown",
   "id": "approved-contamination",
   "metadata": {},
   "source": [
    "#### The 2 classes are now separated on a1D line\n",
    "\n",
    "- But the divisions between groups is pretty obvious in this case \n",
    "- We can manually estimate it in the 1D case\n",
    "- But the data can now be passed to a clustering algorithm \n",
    "- Which will have an easier job than with the original data\n"
   ]
  },
  {
   "cell_type": "markdown",
   "id": "variable-softball",
   "metadata": {},
   "source": [
    "# Classification algorithm"
   ]
  },
  {
   "cell_type": "markdown",
   "id": "horizontal-thomas",
   "metadata": {},
   "source": [
    "# Performance of binary classification with F1-score\n",
    "\n",
    "\\begin{align}\n",
    "    F1 =& \\frac{2}{Precision^{-1} + Recall^{-1}} \\label{f1_score}\\\\\n",
    "    Precision =& \\frac{true\\;\\;positive}{true\\;\\;positive+false\\;\\;positive} \\label{precision} \\\\ \n",
    "    Recall =& \\frac{true\\;\\;positive}{true\\;\\;positive+false\\;\\;negative} \\label{recall}\n",
    "\\end{align}"
   ]
  },
  {
   "cell_type": "code",
   "execution_count": 73,
   "id": "indonesian-karaoke",
   "metadata": {},
   "outputs": [],
   "source": [
    "\"\"\"y=0 : corner ; y=1 : side\"\"\"\n",
    "def f1_score(y1,y2):\n",
    "    \"calculate the f1_score\"\n",
    "    tp = 0 # true side --> true positive\n",
    "    tn = 0 # true corner --> true negative\n",
    "    fp = 0 # false side --> false positive\n",
    "    fn = 0 # false corner --> false negative\n",
    "    for i in range(len(y2)):\n",
    "        # right classisification\n",
    "        if y2[i] == y1[i]:\n",
    "            if y2[i] == 0:\n",
    "                tp+=1 # identified a side instead of a corner\n",
    "            else:\n",
    "                tn+=1 # identified a corner instead of a side\n",
    "        # right classification\n",
    "        else:\n",
    "            if y2[i] == 0:\n",
    "                fp+=1 # side \n",
    "            else: \n",
    "                fp+=1 # corner\n",
    "    precision = tp/(tp+fp)\n",
    "    recall = tp/(tp+fn)\n",
    "    f1 = 2/(1/precision+1/recall)\n",
    "    return[f1,precision,recall]"
   ]
  },
  {
   "cell_type": "markdown",
   "id": "bearing-chain",
   "metadata": {},
   "source": [
    "## K-means\n",
    "\n",
    "sklearn K-means uses the euclidian distance to form the clusters"
   ]
  },
  {
   "cell_type": "code",
   "execution_count": 74,
   "id": "unsigned-warning",
   "metadata": {},
   "outputs": [],
   "source": [
    "from sklearn.cluster import KMeans\n",
    "kmeans = KMeans(n_clusters=2, init ='k-means++', max_iter=300, n_init=10,random_state=0 )\n",
    "y_kmeans = kmeans.fit_predict(lda_X)"
   ]
  },
  {
   "cell_type": "markdown",
   "id": "worst-cotton",
   "metadata": {},
   "source": [
    "### Visualizing the clusters"
   ]
  },
  {
   "cell_type": "code",
   "execution_count": 75,
   "id": "chemical-number",
   "metadata": {},
   "outputs": [
    {
     "data": {
      "image/png": "[encoded data removed]",
      "text/plain": [
       "<Figure size 864x576 with 1 Axes>"
      ]
     },
     "metadata": {},
     "output_type": "display_data"
    }
   ],
   "source": [
    "SMALL_SIZE = 8\n",
    "MEDIUM_SIZE = 20\n",
    "BIGGER_SIZE = 30\n",
    "\n",
    "plt.rc('font', size=BIGGER_SIZE)          # controls default text sizes\n",
    "plt.rc('axes', titlesize=BIGGER_SIZE)     # fontsize of the axes title\n",
    "plt.rc('axes', labelsize=BIGGER_SIZE)    # fontsize of the x and y labels\n",
    "plt.rc('xtick', labelsize=MEDIUM_SIZE)    # fontsize of the tick labels\n",
    "plt.rc('ytick', labelsize=MEDIUM_SIZE)    # fontsize of the tick labels\n",
    "plt.rc('legend', fontsize=MEDIUM_SIZE)    # legend fontsize\n",
    "plt.rc('figure', titlesize=BIGGER_SIZE)  # fontsize of the figure title\n",
    "\n",
    "fig, ax = plt.subplots()\n",
    "plt.style.use(\"ggplot\")\n",
    "plt.rcParams[\"figure.figsize\"] = (12,8)\n",
    "ax.axes.yaxis.set_ticks([])\n",
    "plt.ylabel('LD1 after k-means clustering')\n",
    "plt.scatter(lda_X[y==0], np.full((len(lda_X[y==0]),),2), color='orange', label='corner')\n",
    "plt.scatter(lda_X[y==1], np.full((len(lda_X[y==1]),),2), color='purple', label='side')\n",
    "plt.scatter(lda_X[y_kmeans==0], np.full((len(lda_X[y_kmeans==0]),),1.0), c='red', label ='Cluster 1')\n",
    "plt.scatter(lda_X[y_kmeans==1], np.full((len(lda_X[y_kmeans==1]),),1.0), c='blue', label ='Cluster 2')\n",
    "plt.scatter(kmeans.cluster_centers_[:, 0], np.full((len(kmeans.cluster_centers_[:, 0]),),1.0), c='green', marker='x',label = 'Centroids')\n",
    "plt.plot([-1.4,-1.4],[0,4],'--',color='g')\n",
    "plt.ylim(0,4)\n",
    "ax.legend()\n",
    "plt.savefig('LD1_2_means_clustering.png')\n",
    "#Plot the centroid. This time we're going to use the cluster centres  #attribute that returns here the coordinates of the centroid."
   ]
  },
  {
   "cell_type": "markdown",
   "id": "varying-colombia",
   "metadata": {},
   "source": [
    "### F1-score for k-means clustering"
   ]
  },
  {
   "cell_type": "code",
   "execution_count": 77,
   "id": "dutch-earth",
   "metadata": {},
   "outputs": [
    {
     "name": "stdout",
     "output_type": "stream",
     "text": [
      "The precision of the classification is :  0.7\n",
      "The recall of the binary classification is :  1.0\n",
      "The F1-score is :  0.8235294117647058\n"
     ]
    }
   ],
   "source": [
    "\"\"\"y=0 : corner ; y=1 : side ; res=0 : corner ; res=1 : side\"\"\"\n",
    "\n",
    "y_res = []\n",
    "for i in range(len(kmeans.labels_)):\n",
    "    if kmeans.labels_[i] == 0:\n",
    "        y_res += [1]\n",
    "    else:\n",
    "        y_res += [0]\n",
    "\n",
    "f1_kmeans = f1_score(y, y_res)\n",
    "print(\"The precision of the classification is : \",f1_kmeans[1])\n",
    "print(\"The recall of the binary classification is : \",f1_kmeans[2])\n",
    "print(\"The F1-score is : \", f1_kmeans[0])"
   ]
  },
  {
   "cell_type": "markdown",
   "id": "differential-background",
   "metadata": {},
   "source": [
    "## Logistic Regression"
   ]
  },
  {
   "cell_type": "code",
   "execution_count": null,
   "id": "emerging-clinic",
   "metadata": {},
   "outputs": [],
   "source": []
  },
  {
   "cell_type": "markdown",
   "id": "empty-billion",
   "metadata": {},
   "source": [
    "## Decision Trees"
   ]
  },
  {
   "cell_type": "code",
   "execution_count": null,
   "id": "african-trauma",
   "metadata": {},
   "outputs": [],
   "source": []
  },
  {
   "cell_type": "markdown",
   "id": "amateur-there",
   "metadata": {},
   "source": [
    "## Support Vector Machine"
   ]
  },
  {
   "cell_type": "code",
   "execution_count": null,
   "id": "inclusive-television",
   "metadata": {},
   "outputs": [],
   "source": []
  },
  {
   "cell_type": "markdown",
   "id": "considerable-consultation",
   "metadata": {},
   "source": [
    "## Naive Bayes"
   ]
  },
  {
   "cell_type": "code",
   "execution_count": null,
   "id": "proved-timber",
   "metadata": {},
   "outputs": [],
   "source": []
  },
  {
   "cell_type": "markdown",
   "id": "devoted-license",
   "metadata": {},
   "source": [
    "# In the case you want to do it manually"
   ]
  },
  {
   "cell_type": "code",
   "execution_count": 45,
   "id": "alone-start",
   "metadata": {},
   "outputs": [
    {
     "data": {
      "text/html": [
       "<div>\n",
       "<style scoped>\n",
       "    .dataframe tbody tr th:only-of-type {\n",
       "        vertical-align: middle;\n",
       "    }\n",
       "\n",
       "    .dataframe tbody tr th {\n",
       "        vertical-align: top;\n",
       "    }\n",
       "\n",
       "    .dataframe thead th {\n",
       "        text-align: right;\n",
       "    }\n",
       "</style>\n",
       "<table border=\"1\" class=\"dataframe\">\n",
       "  <thead>\n",
       "    <tr style=\"text-align: right;\">\n",
       "      <th></th>\n",
       "      <th>side</th>\n",
       "      <th>corner</th>\n",
       "    </tr>\n",
       "  </thead>\n",
       "  <tbody>\n",
       "    <tr>\n",
       "      <th>angleLF1</th>\n",
       "      <td>87.869048</td>\n",
       "      <td>75.000000</td>\n",
       "    </tr>\n",
       "    <tr>\n",
       "      <th>angleLF2</th>\n",
       "      <td>88.869048</td>\n",
       "      <td>76.000000</td>\n",
       "    </tr>\n",
       "    <tr>\n",
       "      <th>angleLF3</th>\n",
       "      <td>89.869048</td>\n",
       "      <td>77.000000</td>\n",
       "    </tr>\n",
       "    <tr>\n",
       "      <th>angleLF4</th>\n",
       "      <td>90.869048</td>\n",
       "      <td>78.000000</td>\n",
       "    </tr>\n",
       "    <tr>\n",
       "      <th>angleLF5</th>\n",
       "      <td>91.869048</td>\n",
       "      <td>79.000000</td>\n",
       "    </tr>\n",
       "    <tr>\n",
       "      <th>angleRF1</th>\n",
       "      <td>95.710595</td>\n",
       "      <td>90.482112</td>\n",
       "    </tr>\n",
       "    <tr>\n",
       "      <th>angleRF2</th>\n",
       "      <td>96.715493</td>\n",
       "      <td>91.838239</td>\n",
       "    </tr>\n",
       "    <tr>\n",
       "      <th>angleRF3</th>\n",
       "      <td>97.724740</td>\n",
       "      <td>93.085030</td>\n",
       "    </tr>\n",
       "    <tr>\n",
       "      <th>angleRF4</th>\n",
       "      <td>98.738635</td>\n",
       "      <td>94.220319</td>\n",
       "    </tr>\n",
       "    <tr>\n",
       "      <th>angleRF5</th>\n",
       "      <td>99.757535</td>\n",
       "      <td>95.241369</td>\n",
       "    </tr>\n",
       "  </tbody>\n",
       "</table>\n",
       "</div>"
      ],
      "text/plain": [
       "               side     corner\n",
       "angleLF1  87.869048  75.000000\n",
       "angleLF2  88.869048  76.000000\n",
       "angleLF3  89.869048  77.000000\n",
       "angleLF4  90.869048  78.000000\n",
       "angleLF5  91.869048  79.000000\n",
       "angleRF1  95.710595  90.482112\n",
       "angleRF2  96.715493  91.838239\n",
       "angleRF3  97.724740  93.085030\n",
       "angleRF4  98.738635  94.220319\n",
       "angleRF5  99.757535  95.241369"
      ]
     },
     "execution_count": 45,
     "metadata": {},
     "output_type": "execute_result"
    }
   ],
   "source": [
    "labels_feature_means = pd.DataFrame(columns=np.array([\"side\",\"corner\"]))\n",
    "\n",
    "for c, rows in df.groupby('class'):\n",
    "    labels_feature_means[c] = rows.mean()\n",
    "labels_feature_means "
   ]
  }
 ],
 "metadata": {
  "kernelspec": {
   "display_name": "Python 3",
   "language": "python",
   "name": "python3"
  },
  "language_info": {
   "codemirror_mode": {
    "name": "ipython",
    "version": 3
   },
   "file_extension": ".py",
   "mimetype": "text/x-python",
   "name": "python",
   "nbconvert_exporter": "python",
   "pygments_lexer": "ipython3",
   "version": "3.9.1"
  }
 },
 "nbformat": 4,
 "nbformat_minor": 5
}
