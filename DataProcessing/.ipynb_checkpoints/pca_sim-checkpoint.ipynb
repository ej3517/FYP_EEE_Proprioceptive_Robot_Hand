{
 "cells": [
  {
   "cell_type": "markdown",
   "id": "automotive-installation",
   "metadata": {},
   "source": [
    "# LIBRARIES"
   ]
  },
  {
   "cell_type": "code",
   "execution_count": 2,
   "id": "functional-values",
   "metadata": {},
   "outputs": [],
   "source": [
    "import json\n",
    "import matplotlib.pyplot as plt\n",
    "import numpy as np\n",
    "import pandas as pd\n",
    "import seaborn as sns"
   ]
  },
  {
   "cell_type": "markdown",
   "id": "significant-transcription",
   "metadata": {},
   "source": [
    "# link that helped \n",
    "https://towardsdatascience.com/pca-with-numpy-58917c1d0391"
   ]
  },
  {
   "cell_type": "markdown",
   "id": "comfortable-lounge",
   "metadata": {},
   "source": [
    "# Dataset"
   ]
  },
  {
   "cell_type": "code",
   "execution_count": 3,
   "id": "associate-commonwealth",
   "metadata": {},
   "outputs": [
    {
     "data": {
      "text/html": [
       "<div>\n",
       "<style scoped>\n",
       "    .dataframe tbody tr th:only-of-type {\n",
       "        vertical-align: middle;\n",
       "    }\n",
       "\n",
       "    .dataframe tbody tr th {\n",
       "        vertical-align: top;\n",
       "    }\n",
       "\n",
       "    .dataframe thead th {\n",
       "        text-align: right;\n",
       "    }\n",
       "</style>\n",
       "<table border=\"1\" class=\"dataframe\">\n",
       "  <thead>\n",
       "    <tr style=\"text-align: right;\">\n",
       "      <th></th>\n",
       "      <th>sepal_length</th>\n",
       "      <th>sepal_width</th>\n",
       "      <th>petal_length</th>\n",
       "      <th>petal_width</th>\n",
       "      <th>species</th>\n",
       "    </tr>\n",
       "  </thead>\n",
       "  <tbody>\n",
       "    <tr>\n",
       "      <th>0</th>\n",
       "      <td>5.1</td>\n",
       "      <td>3.5</td>\n",
       "      <td>1.4</td>\n",
       "      <td>0.2</td>\n",
       "      <td>Iris-setosa</td>\n",
       "    </tr>\n",
       "    <tr>\n",
       "      <th>1</th>\n",
       "      <td>4.9</td>\n",
       "      <td>3.0</td>\n",
       "      <td>1.4</td>\n",
       "      <td>0.2</td>\n",
       "      <td>Iris-setosa</td>\n",
       "    </tr>\n",
       "    <tr>\n",
       "      <th>2</th>\n",
       "      <td>4.7</td>\n",
       "      <td>3.2</td>\n",
       "      <td>1.3</td>\n",
       "      <td>0.2</td>\n",
       "      <td>Iris-setosa</td>\n",
       "    </tr>\n",
       "    <tr>\n",
       "      <th>3</th>\n",
       "      <td>4.6</td>\n",
       "      <td>3.1</td>\n",
       "      <td>1.5</td>\n",
       "      <td>0.2</td>\n",
       "      <td>Iris-setosa</td>\n",
       "    </tr>\n",
       "    <tr>\n",
       "      <th>4</th>\n",
       "      <td>5.0</td>\n",
       "      <td>3.6</td>\n",
       "      <td>1.4</td>\n",
       "      <td>0.2</td>\n",
       "      <td>Iris-setosa</td>\n",
       "    </tr>\n",
       "  </tbody>\n",
       "</table>\n",
       "</div>"
      ],
      "text/plain": [
       "   sepal_length  sepal_width  petal_length  petal_width      species\n",
       "0           5.1          3.5           1.4          0.2  Iris-setosa\n",
       "1           4.9          3.0           1.4          0.2  Iris-setosa\n",
       "2           4.7          3.2           1.3          0.2  Iris-setosa\n",
       "3           4.6          3.1           1.5          0.2  Iris-setosa\n",
       "4           5.0          3.6           1.4          0.2  Iris-setosa"
      ]
     },
     "execution_count": 3,
     "metadata": {},
     "output_type": "execute_result"
    }
   ],
   "source": [
    "iris = pd.read_csv(\"http://archive.ics.uci.edu/ml/machine-learning-databases/iris/iris.data\",\n",
    "                  header=None)\n",
    "iris.columns = [\"sepal_length\",\"sepal_width\",\n",
    "                'petal_length','petal_width','species']\n",
    "iris.dropna(how='all', inplace=True)\n",
    "iris.head()\n"
   ]
  },
  {
   "cell_type": "code",
   "execution_count": 11,
   "id": "maritime-scheme",
   "metadata": {},
   "outputs": [
    {
     "data": {
      "text/html": [
       "<div>\n",
       "<style scoped>\n",
       "    .dataframe tbody tr th:only-of-type {\n",
       "        vertical-align: middle;\n",
       "    }\n",
       "\n",
       "    .dataframe tbody tr th {\n",
       "        vertical-align: top;\n",
       "    }\n",
       "\n",
       "    .dataframe thead th {\n",
       "        text-align: right;\n",
       "    }\n",
       "</style>\n",
       "<table border=\"1\" class=\"dataframe\">\n",
       "  <thead>\n",
       "    <tr style=\"text-align: right;\">\n",
       "      <th></th>\n",
       "      <th>angleLF</th>\n",
       "      <th>angleRF</th>\n",
       "    </tr>\n",
       "  </thead>\n",
       "  <tbody>\n",
       "    <tr>\n",
       "      <th>0</th>\n",
       "      <td>73.060567</td>\n",
       "      <td>89.0</td>\n",
       "    </tr>\n",
       "    <tr>\n",
       "      <th>1</th>\n",
       "      <td>72.502128</td>\n",
       "      <td>88.0</td>\n",
       "    </tr>\n",
       "    <tr>\n",
       "      <th>2</th>\n",
       "      <td>71.935614</td>\n",
       "      <td>87.0</td>\n",
       "    </tr>\n",
       "    <tr>\n",
       "      <th>3</th>\n",
       "      <td>71.361467</td>\n",
       "      <td>86.0</td>\n",
       "    </tr>\n",
       "    <tr>\n",
       "      <th>4</th>\n",
       "      <td>70.780101</td>\n",
       "      <td>85.0</td>\n",
       "    </tr>\n",
       "  </tbody>\n",
       "</table>\n",
       "</div>"
      ],
      "text/plain": [
       "     angleLF  angleRF\n",
       "0  73.060567     89.0\n",
       "1  72.502128     88.0\n",
       "2  71.935614     87.0\n",
       "3  71.361467     86.0\n",
       "4  70.780101     85.0"
      ]
     },
     "execution_count": 11,
     "metadata": {},
     "output_type": "execute_result"
    }
   ],
   "source": [
    "# TAKE THE DATA FROM JSON\n",
    "with open('../Simulation/data_pos_sim.json') as f:\n",
    "    data_dict = json.load(f)\n",
    "\n",
    "data_list = [data_dict['LF'],data_dict['RF']]\n",
    "data_array = np.array(data_list).T\n",
    "\n",
    "# DATA FRAME PANDAS\n",
    "angle_df = pd.DataFrame(data=data_array,columns = ['angleLF','angleRF']) \n",
    "angle_df.dropna(how='all', inplace=True)\n",
    "angle_df.head()\n"
   ]
  },
  {
   "cell_type": "markdown",
   "id": "sharing-american",
   "metadata": {},
   "source": [
    "# Visualizing Data"
   ]
  },
  {
   "cell_type": "code",
   "execution_count": 12,
   "id": "ordered-percentage",
   "metadata": {},
   "outputs": [
    {
     "data": {
      "text/plain": [
       "<AxesSubplot:xlabel='sepal_length', ylabel='sepal_width'>"
      ]
     },
     "execution_count": 12,
     "metadata": {},
     "output_type": "execute_result"
    },
    {
     "data": {
      "image/png": "[encoded data removed]",
      "text/plain": [
       "<Figure size 864x576 with 1 Axes>"
      ]
     },
     "metadata": {},
     "output_type": "display_data"
    }
   ],
   "source": [
    "# Plotting data using seaborn\n",
    "plt.style.use(\"ggplot\")\n",
    "plt.rcParams[\"figure.figsize\"] = (12,8)\n",
    "sns.scatterplot(x = iris.sepal_length, y=iris.sepal_width,\n",
    "               hue = iris.species, style=iris.species)"
   ]
  },
  {
   "cell_type": "code",
   "execution_count": 13,
   "id": "nonprofit-hebrew",
   "metadata": {},
   "outputs": [
    {
     "data": {
      "text/plain": [
       "<AxesSubplot:xlabel='angleLF', ylabel='angleRF'>"
      ]
     },
     "execution_count": 13,
     "metadata": {},
     "output_type": "execute_result"
    },
    {
     "data": {
      "image/png": "[encoded data removed]",
      "text/plain": [
       "<Figure size 864x576 with 1 Axes>"
      ]
     },
     "metadata": {},
     "output_type": "display_data"
    }
   ],
   "source": [
    "# Plotting data using seaborn\n",
    "plt.style.use(\"ggplot\")\n",
    "plt.rcParams[\"figure.figsize\"] = (12,8)\n",
    "sns.scatterplot(x = angle_df.angleLF, y=angle_df.angleRF)"
   ]
  },
  {
   "cell_type": "markdown",
   "id": "pressed-attribute",
   "metadata": {},
   "source": [
    "# Standardizing the Data"
   ]
  },
  {
   "cell_type": "code",
   "execution_count": 79,
   "id": "moved-custom",
   "metadata": {},
   "outputs": [],
   "source": [
    "def standardize_data(arr): \n",
    "    '''\n",
    "    This function standardize an array, its substracts mean value, \n",
    "    and then divide the standard deviation.\n",
    "    param 1: array \n",
    "    return: standardized array\n",
    "    '''    \n",
    "    rows, columns = arr.shape\n",
    "    standardizedArray = np.zeros(shape=(rows, columns))\n",
    "    tempArray = np.zeros(rows)\n",
    "    for column in range(columns):  \n",
    "        mean = np.mean(arr[:,column])\n",
    "        std = np.std(arr[:,column])\n",
    "        tempArray = np.empty(0)\n",
    "        for element in arr[:,column]:\n",
    "            tempArray = np.append(tempArray, ((element - mean) / std))\n",
    "        standardizedArray[:,column] = tempArray\n",
    "    return standardizedArray"
   ]
  },
  {
   "cell_type": "markdown",
   "id": "agricultural-people",
   "metadata": {},
   "source": [
    "$z = \\frac{x_i - \\mu(x)}{\\sigma(x)}$"
   ]
  },
  {
   "cell_type": "code",
   "execution_count": 80,
   "id": "competent-variable",
   "metadata": {},
   "outputs": [
    {
     "data": {
      "image/png": "[encoded data removed]",
      "text/plain": [
       "<Figure size 864x576 with 1 Axes>"
      ]
     },
     "metadata": {},
     "output_type": "display_data"
    }
   ],
   "source": [
    "# Standardizing data\n",
    "X = iris.iloc[:, 0:4].values\n",
    "y = iris.species.values\n",
    "X = standardize_data(X)\n",
    "\n",
    "test = X.T\n",
    "\n",
    "fig = plt.figure()\n",
    "ax = fig.add_subplot(111)\n",
    "ax.scatter(test[0],test[1])\n",
    "plt.grid()\n",
    "plt.show()\n"
   ]
  },
  {
   "cell_type": "code",
   "execution_count": 81,
   "id": "engaged-cross",
   "metadata": {},
   "outputs": [
    {
     "data": {
      "image/png": "[encoded data removed]",
      "text/plain": [
       "<Figure size 864x576 with 1 Axes>"
      ]
     },
     "metadata": {},
     "output_type": "display_data"
    }
   ],
   "source": [
    "# Standardizing data\n",
    "angle_std = angle_df.values\n",
    "#angle_std = angle_df.iloc[:, 0:2].values\n",
    "#y = iris.species.values\n",
    "angle_std = standardize_data(angle_std)\n",
    "\n",
    "test = angle_std.T\n",
    "\n",
    "fig = plt.figure()\n",
    "ax = fig.add_subplot(111)\n",
    "ax.scatter(test[0],test[1])\n",
    "plt.grid()\n",
    "plt.show()"
   ]
  },
  {
   "cell_type": "markdown",
   "id": "intensive-approval",
   "metadata": {},
   "source": [
    "# Computing the Eigenvectors and Eigenvalues"
   ]
  },
  {
   "cell_type": "code",
   "execution_count": 89,
   "id": "direct-chest",
   "metadata": {},
   "outputs": [
    {
     "name": "stdout",
     "output_type": "stream",
     "text": [
      "[[ 1.00671141 -0.11010327  0.87760486  0.82344326]\n",
      " [-0.11010327  1.00671141 -0.42333835 -0.358937  ]\n",
      " [ 0.87760486 -0.42333835  1.00671141  0.96921855]\n",
      " [ 0.82344326 -0.358937    0.96921855  1.00671141]] \n",
      "\n",
      "Eigenvector: \n",
      " [[ 0.52237162 -0.37231836 -0.72101681  0.26199559]\n",
      " [-0.26335492 -0.92555649  0.24203288 -0.12413481]\n",
      " [ 0.58125401 -0.02109478  0.14089226 -0.80115427]\n",
      " [ 0.56561105 -0.06541577  0.6338014   0.52354627]] \n",
      "\n",
      "Eigenvalues: \n",
      " [2.93035378 0.92740362 0.14834223 0.02074601] \n",
      "\n",
      "[72.77045209380132, 23.030523267680664, 3.6838319576273837, 0.5151926808906325]\n"
     ]
    }
   ],
   "source": [
    "#Calculating the covariance matrix\n",
    "covariance_matrix = np.cov(X.T)\n",
    "print(covariance_matrix,\"\\n\")\n",
    "\n",
    "# Using np.linalg.eig function\n",
    "eigen_values, eigen_vectors = np.linalg.eig(covariance_matrix)\n",
    "print(\"Eigenvector: \\n\",eigen_vectors,\"\\n\")\n",
    "print(\"Eigenvalues: \\n\", eigen_values, \"\\n\")\n",
    "\n",
    "# Calculating the explained variance on each of components\n",
    "variance_explained = []\n",
    "for i in eigen_values:\n",
    "     variance_explained.append((i/sum(eigen_values))*100)\n",
    "        \n",
    "print(variance_explained)"
   ]
  },
  {
   "cell_type": "code",
   "execution_count": 173,
   "id": "associate-generator",
   "metadata": {},
   "outputs": [
    {
     "name": "stdout",
     "output_type": "stream",
     "text": [
      "[[1.00409836 0.98839197]\n",
      " [0.98839197 1.00409836]] \n",
      "\n",
      "Eigenvector: \n",
      " [[ 0.70710678 -0.70710678]\n",
      " [ 0.70710678  0.70710678]] \n",
      "\n",
      "Eigenvalues: \n",
      " [1.99249033 0.01570639] \n",
      "\n",
      "Explained variance: \n",
      " [99.21788587042768, 0.782114129572323] \n",
      "\n"
     ]
    }
   ],
   "source": [
    "#Calculating the covariance matrix\n",
    "cov_matrix = np.cov(angle_std.T)\n",
    "print(covariance_matrix2,\"\\n\")\n",
    "\n",
    "# Using np.linalg.eig function\n",
    "eigen_val, eigen_vec = np.linalg.eig(cov_matrix)\n",
    "# eigen_vec(:,i) is an eigenvector\n",
    "print(\"Eigenvector: \\n\",eigen_vec,\"\\n\")\n",
    "print(\"Eigenvalues: \\n\", eigen_val, \"\\n\")\n",
    "\n",
    "# Calculating the explained variance on each of components\n",
    "var_explained = []\n",
    "for i in eigen_val:\n",
    "     var_explained.append((i/sum(eigen_val))*100)\n",
    "print(\"Explained variance: \\n\",var_explained,\"\\n\")\n",
    "\n",
    "# Sort the egeinvalues and the eigenvectors accordingly\n",
    "rows, columns = eigen_vec.shape\n",
    "temp_eigen_val = np.zeros(columns)\n",
    "temp_eigen_vec = np.zeros((rows,columns))\n",
    "index_sort = np.argsort(-eigen_val) # the - is for descending\n",
    "for i in range(columns):\n",
    "    temp_eigen_val[i] = eigen_val[index_sort[i]]\n",
    "    temp_eigen_vec[:,i] = eigen_vec[:,index_sort[i]]\n",
    "eigen_val = temp_eigen_val\n",
    "eigen_vec = temp_eigen_vec"
   ]
  },
  {
   "cell_type": "markdown",
   "id": "eleven-billy",
   "metadata": {},
   "source": [
    "# PRINCIPLE COMPONENT ANALYSIS (PCA)"
   ]
  },
  {
   "cell_type": "code",
   "execution_count": null,
   "id": "southeast-publicity",
   "metadata": {},
   "outputs": [],
   "source": [
    "\n"
   ]
  },
  {
   "cell_type": "markdown",
   "id": "controlling-input",
   "metadata": {},
   "source": [
    "# TEST"
   ]
  },
  {
   "cell_type": "code",
   "execution_count": null,
   "id": "gothic-volunteer",
   "metadata": {},
   "outputs": [],
   "source": []
  }
 ],
 "metadata": {
  "kernelspec": {
   "display_name": "Python 3",
   "language": "python",
   "name": "python3"
  },
  "language_info": {
   "codemirror_mode": {
    "name": "ipython",
    "version": 3
   },
   "file_extension": ".py",
   "mimetype": "text/x-python",
   "name": "python",
   "nbconvert_exporter": "python",
   "pygments_lexer": "ipython3",
   "version": "3.9.1"
  }
 },
 "nbformat": 4,
 "nbformat_minor": 5
}
