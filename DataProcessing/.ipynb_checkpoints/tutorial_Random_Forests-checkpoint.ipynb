{
 "cells": [
  {
   "cell_type": "code",
   "execution_count": 1,
   "metadata": {
    "pycharm": {
     "is_executing": false,
     "name": "#%%\n"
    }
   },
   "outputs": [],
   "source": [
    "##############################################################\n",
    "######################### TUTORIAL 1 #########################\n",
    "##############################################################\n",
    "#############################################################\n",
    "######################### Libraries #########################\n",
    "#############################################################\n",
    "\n",
    "import numpy as np\n",
    "import pandas as pd\n",
    "\n",
    "# Iris dataset\n",
    "from sklearn.datasets import load_iris\n",
    "\n",
    "# Data preprocessing and machine learning\n",
    "from sklearn.model_selection import train_test_split\n",
    "from sklearn.tree import DecisionTreeClassifier\n",
    "from sklearn.ensemble import BaggingClassifier\n",
    "\n",
    "# To measure performance\n",
    "from sklearn import metrics"
   ]
  },
  {
   "cell_type": "code",
   "execution_count": 2,
   "metadata": {
    "pycharm": {
     "is_executing": false,
     "name": "#%%\n"
    }
   },
   "outputs": [
    {
     "name": "stdout",
     "output_type": "stream",
     "text": [
      "The accuracy of the stump is 55.0 %\n",
      "The accuracy of the ensemble is 55.0 %\n"
     ]
    }
   ],
   "source": [
    "#############################################################################################\n",
    "######################### Stump vs Ensemble of 1000 Decision Stumps #########################\n",
    "#############################################################################################\n",
    "# Load data and store it into pandas DataFrame objects\n",
    "iris = load_iris()\n",
    "X = pd.DataFrame(iris.data[:, :], columns = iris.feature_names[:])\n",
    "y = pd.DataFrame(iris.target, columns =[\"Species\"])\n",
    "\n",
    "# Splitting Dataset\n",
    "X_train, X_test, y_train, y_test = train_test_split(X, y, test_size = 20, random_state = 100)\n",
    "\n",
    "# Defining the stump\n",
    "stump = DecisionTreeClassifier(max_depth = 1)\n",
    "\n",
    "# Creating an ensemble \n",
    "ensemble = BaggingClassifier(base_estimator = stump, n_estimators = 1000,\n",
    "                             bootstrap = False)\n",
    "\n",
    "# Training classifiers\n",
    "stump.fit(X_train, np.ravel(y_train))\n",
    "ensemble.fit(X_train, np.ravel(y_train))\n",
    "\n",
    "# Making predictions\n",
    "y_pred_stump = stump.predict(X_test)\n",
    "y_pred_ensemble = ensemble.predict(X_test)\n",
    "\n",
    "# Determine performance\n",
    "stump_accuracy = metrics.accuracy_score(y_test, y_pred_stump)\n",
    "ensemble_accuracy = metrics.accuracy_score(y_test, y_pred_ensemble)\n",
    "\n",
    "# Print message to user\n",
    "print(f\"The accuracy of the stump is {stump_accuracy*100:.1f} %\")\n",
    "print(f\"The accuracy of the ensemble is {ensemble_accuracy*100:.1f} %\")\n"
   ]
  },
  {
   "cell_type": "code",
   "execution_count": 3,
   "metadata": {
    "pycharm": {
     "is_executing": false,
     "name": "#%%\n"
    }
   },
   "outputs": [
    {
     "name": "stdout",
     "output_type": "stream",
     "text": [
      "The accuracy of the stump is 55.0 %\n",
      "The accuracy of the Random Forest is 95.0 %\n"
     ]
    }
   ],
   "source": [
    "###########################################################################\n",
    "######################### Stump vs Random Forest  #########################\n",
    "###########################################################################\n",
    "# Defining the stump\n",
    "stump = DecisionTreeClassifier(max_depth = 1, splitter = \"best\", max_features = \"sqrt\")\n",
    "\n",
    "# Create Random Forest \n",
    "ensemble = BaggingClassifier(base_estimator = stump, n_estimators = 1000,\n",
    "                             bootstrap = True)\n",
    "\n",
    "# Training classifiers\n",
    "stump.fit(X_train, np.ravel(y_train))\n",
    "ensemble.fit(X_train, np.ravel(y_train))\n",
    "\n",
    "# Making predictions\n",
    "y_pred_tree = stump.predict(X_test)\n",
    "y_pred_ensemble = ensemble.predict(X_test)\n",
    "\n",
    "# Determine performance\n",
    "stump_accuracy = metrics.accuracy_score(y_test, y_pred_stump)\n",
    "ensemble_accuracy = metrics.accuracy_score(y_test, y_pred_ensemble)\n",
    "\n",
    "# Print message to user\n",
    "print(f\"The accuracy of the stump is {stump_accuracy*100:.1f} %\")\n",
    "print(f\"The accuracy of the Random Forest is {ensemble_accuracy*100:.1f} %\")"
   ]
  },
  {
   "cell_type": "code",
   "execution_count": 4,
   "metadata": {
    "pycharm": {
     "is_executing": false,
     "name": "#%%\n"
    }
   },
   "outputs": [
    {
     "name": "stdout",
     "output_type": "stream",
     "text": [
      "The accuracy of the stump is 55.0 %\n",
      "The accuracy of the Extra Trees is 95.0 %\n"
     ]
    }
   ],
   "source": [
    "#########################################################################\n",
    "######################### Stump vs Extra Trees  #########################\n",
    "#########################################################################\n",
    "# Defining the stump\n",
    "stump = DecisionTreeClassifier(max_depth = 1, splitter = \"random\", max_features = \"sqrt\")\n",
    "\n",
    "# Create Extra Trees\n",
    "ensemble = BaggingClassifier(base_estimator = stump, n_estimators = 1000,\n",
    "                             bootstrap = False)\n",
    "\n",
    "# Training classifiers\n",
    "stump.fit(X_train, np.ravel(y_train))\n",
    "ensemble.fit(X_train, np.ravel(y_train))\n",
    "\n",
    "# Making predictions\n",
    "y_pred_tree = stump.predict(X_test)\n",
    "y_pred_ensemble = ensemble.predict(X_test)\n",
    "\n",
    "# Determine performance\n",
    "stump_accuracy = metrics.accuracy_score(y_test, y_pred_stump)\n",
    "ensemble_accuracy = metrics.accuracy_score(y_test, y_pred_ensemble)\n",
    "\n",
    "# Print message to user\n",
    "print(f\"The accuracy of the stump is {stump_accuracy*100:.1f} %\")\n",
    "print(f\"The accuracy of the Extra Trees is {ensemble_accuracy*100:.1f} %\")"
   ]
  },
  {
   "cell_type": "code",
   "execution_count": 5,
   "metadata": {
    "pycharm": {
     "is_executing": false,
     "name": "#%%\n"
    }
   },
   "outputs": [
    {
     "data": {
      "text/plain": [
       "DecisionTreeClassifier(max_depth=2)"
      ]
     },
     "execution_count": 5,
     "metadata": {},
     "output_type": "execute_result"
    }
   ],
   "source": [
    "##############################################################\n",
    "######################### TUTORIAL 2 #########################\n",
    "##############################################################\n",
    "# Importing Libraries\n",
    "import pandas as pd\n",
    "from sklearn.datasets import load_iris\n",
    "from sklearn.tree import DecisionTreeClassifier\n",
    "\n",
    "# Load data and store it into pandas DataFrame objects\n",
    "iris = load_iris()\n",
    "X = pd.DataFrame(iris.data[:, :], columns = iris.feature_names[:])\n",
    "y = pd.DataFrame(iris.target, columns =[\"Species\"])\n",
    "\n",
    "# Defining and fitting a DecisionTreeClassifier instance\n",
    "tree = DecisionTreeClassifier(max_depth = 2)\n",
    "tree.fit(X,y)"
   ]
  },
  {
   "cell_type": "code",
   "execution_count": 6,
   "metadata": {
    "pycharm": {
     "is_executing": false,
     "name": "#%%\n"
    }
   },
   "outputs": [],
   "source": [
    "# Visualize Decision Tree\n",
    "from sklearn.tree import export_graphviz\n",
    "\n",
    "# Creates dot file named tree.dot\n",
    "export_graphviz(\n",
    "            tree,\n",
    "            out_file =  \"myTreeName.dot\",\n",
    "            feature_names = list(X.columns),\n",
    "            class_names = iris.target_names,\n",
    "            filled = True,\n",
    "            rounded = True)\n"
   ]
  },
  {
   "cell_type": "code",
   "execution_count": 7,
   "metadata": {
    "pycharm": {
     "is_executing": false,
     "name": "#%%\n"
    }
   },
   "outputs": [
    {
     "name": "stdout",
     "output_type": "stream",
     "text": [
      "The first sample most likely belongs a virginica flower.\n",
      "The second sample most likely belongs a versicolor flower.\n"
     ]
    }
   ],
   "source": [
    "# Making a Prediction On a New Sample\n",
    "sample_one_pred = int(tree.predict([[5, 5, 1, 3]]))\n",
    "sample_two_pred = int(tree.predict([[5, 5, 2.6, 1.5]]))\n",
    "print(f\"The first sample most likely belongs a {iris.target_names[sample_one_pred]} flower.\")\n",
    "print(f\"The second sample most likely belongs a {iris.target_names[sample_two_pred]} flower.\")"
   ]
  },
  {
   "cell_type": "code",
   "execution_count": null,
   "metadata": {
    "pycharm": {
     "name": "#%%\n"
    }
   },
   "outputs": [],
   "source": [
    "# Setting parameters\n",
    "tree = DecisionTreeClassifier(criterion = \"entropy\", splitter = \"random\", max_depth = 2,  min_samples_split = 5,\n",
    "                              min_samples_leaf = 2, max_features = 2)\n",
    "tree.fit(X,y)\n",
    "\n",
    "\n"
   ]
  }
 ],
 "metadata": {
  "kernelspec": {
   "display_name": "Python 3",
   "language": "python",
   "name": "python3"
  },
  "language_info": {
   "codemirror_mode": {
    "name": "ipython",
    "version": 3
   },
   "file_extension": ".py",
   "mimetype": "text/x-python",
   "name": "python",
   "nbconvert_exporter": "python",
   "pygments_lexer": "ipython3",
   "version": "3.9.1"
  },
  "pycharm": {
   "stem_cell": {
    "cell_type": "raw",
    "metadata": {
     "collapsed": false
    },
    "source": []
   }
  }
 },
 "nbformat": 4,
 "nbformat_minor": 1
}
