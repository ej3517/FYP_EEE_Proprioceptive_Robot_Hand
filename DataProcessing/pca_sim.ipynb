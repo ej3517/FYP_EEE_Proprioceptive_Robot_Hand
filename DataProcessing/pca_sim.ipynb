{
 "cells": [
  {
   "cell_type": "markdown",
   "id": "automotive-installation",
   "metadata": {},
   "source": [
    "# LIBRARIES"
   ]
  },
  {
   "cell_type": "code",
   "execution_count": null,
   "id": "functional-values",
   "metadata": {},
   "outputs": [],
   "source": [
    "import json\n",
    "import matplotlib.pyplot as plt\n",
    "import numpy as np\n",
    "import pandas as pd\n",
    "import seaborn as sns"
   ]
  },
  {
   "cell_type": "markdown",
   "id": "significant-transcription",
   "metadata": {},
   "source": [
    "# link that helped \n",
    "https://towardsdatascience.com/pca-with-numpy-58917c1d0391"
   ]
  },
  {
   "cell_type": "markdown",
   "id": "comfortable-lounge",
   "metadata": {},
   "source": [
    "# Dataset"
   ]
  },
  {
   "cell_type": "code",
   "execution_count": null,
   "id": "associate-commonwealth",
   "metadata": {},
   "outputs": [],
   "source": [
    "iris = pd.read_csv(\"http://archive.ics.uci.edu/ml/machine-learning-databases/iris/iris.data\",\n",
    "                  header=None)\n",
    "iris.columns = [\"sepal_length\",\"sepal_width\",\n",
    "                'petal_length','petal_width','species']\n",
    "iris.dropna(how='all', inplace=True)\n",
    "iris.head()\n",
    "print(iris)\n"
   ]
  },
  {
   "cell_type": "code",
   "execution_count": null,
   "id": "maritime-scheme",
   "metadata": {},
   "outputs": [],
   "source": [
    "# TAKE THE DATA FROM JSON\n",
    "with open('../Simulation/data_pos_sim.json') as f:\n",
    "    data_dict = json.load(f)\n",
    "\n",
    "data_list = [data_dict['LF'],data_dict['RF']]\n",
    "data_array = np.array(data_list).T\n",
    "\n",
    "# DATA FRAME PANDAS\n",
    "angle_df = pd.DataFrame(data=data_array,columns = ['angleLF','angleRF']) \n",
    "angle_df.dropna(how='all', inplace=True)\n",
    "angle_df.head()\n"
   ]
  },
  {
   "cell_type": "markdown",
   "id": "sharing-american",
   "metadata": {},
   "source": [
    "# Visualizing Data"
   ]
  },
  {
   "cell_type": "code",
   "execution_count": null,
   "id": "ordered-percentage",
   "metadata": {},
   "outputs": [],
   "source": [
    "# Plotting data using seaborn\n",
    "plt.style.use(\"ggplot\")\n",
    "plt.rcParams[\"figure.figsize\"] = (12,8)\n",
    "sns.scatterplot(x = iris.sepal_length, y=iris.sepal_width,\n",
    "               hue = iris.species, style=iris.species)"
   ]
  },
  {
   "cell_type": "code",
   "execution_count": null,
   "id": "nonprofit-hebrew",
   "metadata": {},
   "outputs": [],
   "source": [
    "# Plotting data using seaborn\n",
    "plt.style.use(\"ggplot\")\n",
    "plt.title(\"Raw Data\")\n",
    "plt.rcParams[\"figure.figsize\"] = (12,8)\n",
    "sns.scatterplot(x = angle_df.angleLF, y=angle_df.angleRF)"
   ]
  },
  {
   "cell_type": "markdown",
   "id": "pressed-attribute",
   "metadata": {},
   "source": [
    "# Standardizing the Data"
   ]
  },
  {
   "cell_type": "code",
   "execution_count": null,
   "id": "moved-custom",
   "metadata": {},
   "outputs": [],
   "source": [
    "def standardize_data(arr): \n",
    "    '''\n",
    "    This function standardize an array, its substracts mean value, \n",
    "    and then divide the standard deviation.\n",
    "    param 1: array \n",
    "    return: standardized array\n",
    "    '''    \n",
    "    rows, columns = arr.shape\n",
    "    standardizedArray = np.zeros(shape=(rows, columns))\n",
    "    tempArray = np.zeros(rows)\n",
    "    for column in range(columns):  \n",
    "        mean = np.mean(arr[:,column])\n",
    "        std = np.std(arr[:,column])\n",
    "        tempArray = np.empty(0)\n",
    "        for element in arr[:,column]:\n",
    "            tempArray = np.append(tempArray, ((element - mean) / std))\n",
    "        standardizedArray[:,column] = tempArray\n",
    "    return standardizedArray"
   ]
  },
  {
   "cell_type": "markdown",
   "id": "agricultural-people",
   "metadata": {},
   "source": [
    "$z = \\frac{x_i - \\mu(x)}{\\sigma(x)}$"
   ]
  },
  {
   "cell_type": "code",
   "execution_count": null,
   "id": "competent-variable",
   "metadata": {},
   "outputs": [],
   "source": [
    "# Standardizing data\n",
    "X = iris.iloc[:, 0:4].values\n",
    "y = iris.species.values\n",
    "X = standardize_data(X)\n",
    "\n",
    "test = X.T\n",
    "\n",
    "fig = plt.figure()\n",
    "ax = fig.add_subplot(111)\n",
    "ax.scatter(test[0],test[1])\n",
    "plt.grid()\n",
    "plt.show()\n",
    "plt.close()"
   ]
  },
  {
   "cell_type": "code",
   "execution_count": 54,
   "id": "engaged-cross",
   "metadata": {},
   "outputs": [
    {
     "data": {
      "image/png": "[encoded data removed]",
      "text/plain": [
       "<Figure size 864x576 with 1 Axes>"
      ]
     },
     "metadata": {},
     "output_type": "display_data"
    }
   ],
   "source": [
    "# Standardizing data\n",
    "angle_std = angle_df.values\n",
    "#angle_std = angle_df.iloc[:, 0:2].values\n",
    "#y = iris.species.values\n",
    "angle_std = standardize_data(angle_std)\n",
    "\n",
    "test = angle_std.T\n",
    "\n",
    "fig = plt.figure()\n",
    "ax = fig.add_subplot(111)\n",
    "ax.scatter(test[0],test[1])\n",
    "plt.title(\"Standardized Data\")\n",
    "plt.ylabel(r'$\\theta_R$')\n",
    "plt.xlabel(r'$\\theta_L$')\n",
    "plt.grid()\n",
    "plt.show()\n",
    "plt.close()"
   ]
  },
  {
   "cell_type": "markdown",
   "id": "intensive-approval",
   "metadata": {},
   "source": [
    "# Computing the Eigenvectors and Eigenvalues"
   ]
  },
  {
   "cell_type": "code",
   "execution_count": 12,
   "id": "direct-chest",
   "metadata": {},
   "outputs": [
    {
     "name": "stdout",
     "output_type": "stream",
     "text": [
      "[[ 1.00671141 -0.11010327  0.87760486  0.82344326]\n",
      " [-0.11010327  1.00671141 -0.42333835 -0.358937  ]\n",
      " [ 0.87760486 -0.42333835  1.00671141  0.96921855]\n",
      " [ 0.82344326 -0.358937    0.96921855  1.00671141]] \n",
      "\n",
      "Eigenvector: \n",
      " [[ 0.52237162 -0.37231836 -0.72101681  0.26199559]\n",
      " [-0.26335492 -0.92555649  0.24203288 -0.12413481]\n",
      " [ 0.58125401 -0.02109478  0.14089226 -0.80115427]\n",
      " [ 0.56561105 -0.06541577  0.6338014   0.52354627]] \n",
      "\n",
      "Eigenvalues: \n",
      " [2.93035378 0.92740362 0.14834223 0.02074601] \n",
      "\n",
      "[72.77045209380132, 23.030523267680664, 3.6838319576273837, 0.5151926808906325]\n"
     ]
    }
   ],
   "source": [
    "#Calculating the covariance matrix\n",
    "covariance_matrix = np.cov(X.T)\n",
    "print(covariance_matrix,\"\\n\")\n",
    "\n",
    "# Using np.linalg.eig function\n",
    "eigen_values, eigen_vectors = np.linalg.eig(covariance_matrix)\n",
    "print(\"Eigenvector: \\n\",eigen_vectors,\"\\n\")\n",
    "print(\"Eigenvalues: \\n\", eigen_values, \"\\n\")\n",
    "\n",
    "# Calculating the explained variance on each of components\n",
    "variance_explained = []\n",
    "for i in eigen_values:\n",
    "     variance_explained.append((i/sum(eigen_values))*100)\n",
    "        \n",
    "print(variance_explained)"
   ]
  },
  {
   "cell_type": "code",
   "execution_count": 15,
   "id": "associate-generator",
   "metadata": {},
   "outputs": [
    {
     "name": "stdout",
     "output_type": "stream",
     "text": [
      "[[1.00409836 0.98839197]\n",
      " [0.98839197 1.00409836]] \n",
      "\n",
      "Eigenvector: \n",
      " [[ 0.70710678 -0.70710678]\n",
      " [ 0.70710678  0.70710678]] \n",
      "\n",
      "Eigenvalues: \n",
      " [1.99249033 0.01570639] \n",
      "\n",
      "Explained variance: \n",
      " [99.21788587042768, 0.782114129572323] \n",
      "\n"
     ]
    }
   ],
   "source": [
    "#Calculating the covariance matrix\n",
    "cov_matrix = np.cov(angle_std.T)\n",
    "print(cov_matrix,\"\\n\")\n",
    "\n",
    "# Using np.linalg.eig function\n",
    "eigen_val, eigen_vec = np.linalg.eig(cov_matrix)\n",
    "# eigen_vec(:,i) is an eigenvector\n",
    "print(\"Eigenvector: \\n\",eigen_vec,\"\\n\")\n",
    "print(\"Eigenvalues: \\n\", eigen_val, \"\\n\")\n",
    "\n",
    "# Calculating the explained variance on each of components\n",
    "var_explained = []\n",
    "for i in eigen_val:\n",
    "     var_explained.append((i/sum(eigen_val))*100)\n",
    "print(\"Explained variance: \\n\",var_explained,\"\\n\")\n",
    "\n",
    "# Sort the egeinvalues and the eigenvectors accordingly\n",
    "rows, columns = eigen_vec.shape\n",
    "temp_eigen_val = np.zeros(columns)\n",
    "temp_eigen_vec = np.zeros((rows,columns))\n",
    "index_sort = np.argsort(-eigen_val) # the - is for descending\n",
    "for i in range(columns):\n",
    "    temp_eigen_val[i] = eigen_val[index_sort[i]]\n",
    "    temp_eigen_vec[:,i] = eigen_vec[:,index_sort[i]]\n",
    "eigen_val = temp_eigen_val\n",
    "eigen_vec = temp_eigen_vec"
   ]
  },
  {
   "cell_type": "markdown",
   "id": "eleven-billy",
   "metadata": {},
   "source": [
    "# PROJECTION ON PCs"
   ]
  },
  {
   "cell_type": "code",
   "execution_count": 59,
   "id": "southeast-publicity",
   "metadata": {},
   "outputs": [
    {
     "data": {
      "image/png": "[encoded data removed]",
      "text/plain": [
       "<Figure size 864x576 with 1 Axes>"
      ]
     },
     "metadata": {},
     "output_type": "display_data"
    }
   ],
   "source": [
    "# Projection on PC1\n",
    "PC1 = np.array([eigen_vec[:,1]])\n",
    "angle_pca_1D = np.matmul(PC1,angle_std.T)\n",
    "angle_pca_1D = np.append(angle_pca_1D, np.full((1,245),eigen_val[1]), axis=0)\n",
    "\n",
    "fig = plt.figure()\n",
    "ax = fig.add_subplot(111)\n",
    "ax.scatter(angle_pca_1D[0],angle_pca_1D[1])\n",
    "plt.title(\"1D PC projection scatter of standardised angles\")\n",
    "plt.ylabel(\"PC1\")\n",
    "plt.grid()\n",
    "plt.show()\n",
    "plt.close()"
   ]
  },
  {
   "cell_type": "markdown",
   "id": "controlling-input",
   "metadata": {},
   "source": [
    "# TEST"
   ]
  },
  {
   "cell_type": "code",
   "execution_count": null,
   "id": "gothic-volunteer",
   "metadata": {},
   "outputs": [],
   "source": []
  }
 ],
 "metadata": {
  "kernelspec": {
   "display_name": "Python 3",
   "language": "python",
   "name": "python3"
  },
  "language_info": {
   "codemirror_mode": {
    "name": "ipython",
    "version": 3
   },
   "file_extension": ".py",
   "mimetype": "text/x-python",
   "name": "python",
   "nbconvert_exporter": "python",
   "pygments_lexer": "ipython3",
   "version": "3.9.1"
  }
 },
 "nbformat": 4,
 "nbformat_minor": 5
}
