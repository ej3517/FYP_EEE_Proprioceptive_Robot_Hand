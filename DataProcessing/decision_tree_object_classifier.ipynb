{
 "cells": [
  {
   "cell_type": "markdown",
   "id": "comic-arizona",
   "metadata": {},
   "source": [
    "# Decision Tree Object Classifier\n",
    "## Loading Libraries"
   ]
  },
  {
   "cell_type": "code",
   "execution_count": 1,
   "id": "approximate-texture",
   "metadata": {},
   "outputs": [],
   "source": [
    "import json\n",
    "import math\n",
    "import matplotlib.pyplot as plt\n",
    "import numpy as np\n",
    "import pandas as pd\n",
    "import seaborn as sns\n",
    "from sklearn.datasets import load_wine\n",
    "np.set_printoptions(precision=4)\n",
    "sns.set()\n",
    "from sklearn.preprocessing import LabelEncoder\n",
    "from sklearn.tree import DecisionTreeClassifier\n",
    "from sklearn.model_selection import train_test_split\n",
    "from sklearn.metrics import confusion_matrix"
   ]
  },
  {
   "cell_type": "markdown",
   "id": "unavailable-legislature",
   "metadata": {},
   "source": [
    "## Dataset"
   ]
  },
  {
   "cell_type": "code",
   "execution_count": 30,
   "id": "beneficial-corps",
   "metadata": {},
   "outputs": [
    {
     "name": "stdout",
     "output_type": "stream",
     "text": [
      "(176, 5)\n"
     ]
    },
    {
     "name": "stderr",
     "output_type": "stream",
     "text": [
      "<ipython-input-30-68afe499f377>:32: VisibleDeprecationWarning: Creating an ndarray from ragged nested sequences (which is a list-or-tuple of lists-or-tuples-or ndarrays with different lengths or shapes) is deprecated. If you meant to do this, you must specify 'dtype=object' when creating the ndarray.\n",
      "  data_trial = np.array([[data_dict_square['LF_motion1'][0],\n",
      "<ipython-input-30-68afe499f377>:39: VisibleDeprecationWarning: Creating an ndarray from ragged nested sequences (which is a list-or-tuple of lists-or-tuples-or ndarrays with different lengths or shapes) is deprecated. If you meant to do this, you must specify 'dtype=object' when creating the ndarray.\n",
      "  data_trial = np.array([[data_dict_hexagon['LF_motion1'][0],\n",
      "<ipython-input-30-68afe499f377>:55: VisibleDeprecationWarning: Creating an ndarray from ragged nested sequences (which is a list-or-tuple of lists-or-tuples-or ndarrays with different lengths or shapes) is deprecated. If you meant to do this, you must specify 'dtype=object' when creating the ndarray.\n",
      "  data_trial = np.array([[data_dict_circle['LF_motion1'][0],\n",
      "<ipython-input-30-68afe499f377>:69: VisibleDeprecationWarning: Creating an ndarray from ragged nested sequences (which is a list-or-tuple of lists-or-tuples-or ndarrays with different lengths or shapes) is deprecated. If you meant to do this, you must specify 'dtype=object' when creating the ndarray.\n",
      "  data_trial = np.array([[data_dict_rectangle['LF_motion1'][0],\n"
     ]
    }
   ],
   "source": [
    "# SQUARE\n",
    "with open('../Control/data_pos_trial.json') as f:\n",
    "    full_data_dict_square = json.load(f)\n",
    "# HEXAGON\n",
    "with open('../Control/data_pos_trial_hexagon.json') as f:\n",
    "    full_data_dict_hexagon = json.load(f)\n",
    "# CIRCLE\n",
    "with open('../Control/data_pos_trial_circle.json') as f:\n",
    "    full_data_dict_circle = json.load(f)\n",
    "# RECTANGLE\n",
    "with open('../Control/data_pos_trial_rectangle.json') as f:\n",
    "    full_data_dict_rectangle = json.load(f)\n",
    "\n",
    "number_trials = len(full_data_dict_square) + len(full_data_dict_rectangle) \n",
    "number_trials += len(full_data_dict_circle) + len(full_data_dict_hexagon) \n",
    "data_array  = np.empty((0,5), int) # 5 --> LF1_2;TIME_12;CLASS\n",
    "\n",
    "poses = [60,65,70]\n",
    "gaps = [34,42,50]\n",
    "dims = [20,25,30]\n",
    "trials = [1,2]\n",
    "data_list=[]\n",
    "\n",
    "# class --> 0:square 1:hexagon 2:circle 3:rectangle\n",
    "# square and hexagon same trials\n",
    "for trial in trials:\n",
    "    for gap in gaps:\n",
    "        for dim in dims:\n",
    "            for pose in poses:\n",
    "                dict_key = \"dim_\"+str(dim)+\"_pose_\"+str(pose)+\"_gap_\"+str(gap)+\"_\"+str(trial)\n",
    "                data_dict_square = full_data_dict_square[dict_key]\n",
    "                data_trial = np.array([[data_dict_square['LF_motion1'][0],\n",
    "                                        data_dict_square['LF_motion1'][1],\n",
    "                                        data_dict_square['LF_motion2'][0],\n",
    "                                        data_dict_square['LF_motion2'][1],\n",
    "                                        0]])\n",
    "                data_array = np.append(data_array, data_trial, axis=0)\n",
    "                data_dict_hexagon = full_data_dict_hexagon[dict_key]\n",
    "                data_trial = np.array([[data_dict_hexagon['LF_motion1'][0],\n",
    "                                        data_dict_hexagon['LF_motion1'][1],\n",
    "                                        data_dict_hexagon['LF_motion2'][0],\n",
    "                                        data_dict_hexagon['LF_motion2'][1],\n",
    "                                        1]])\n",
    "                data_array = np.append(data_array, data_trial, axis=0)\n",
    "# for circle the dim 20 gaps 50 only have the 70 pose\n",
    "dims_circle = [20,25]\n",
    "for trial in trials:\n",
    "    for gap in gaps:\n",
    "        for dim in dims_circle:\n",
    "            for pose in poses:\n",
    "                if not ((dim == 20 and gap == 50 and pose == 60) or \n",
    "                    (dim == 20 and gap == 50 and pose == 65)):\n",
    "                    dict_key = \"dim_\"+str(dim)+\"_pose_\"+str(pose)+\"_gap_\"+str(gap)+\"_\"+str(trial)\n",
    "                    data_dict_circle = full_data_dict_circle[dict_key]\n",
    "                    data_trial = np.array([[data_dict_circle['LF_motion1'][0],\n",
    "                                            data_dict_circle['LF_motion1'][1],\n",
    "                                            data_dict_circle['LF_motion2'][0],\n",
    "                                            data_dict_circle['LF_motion2'][1],\n",
    "                                            2]])\n",
    "                    data_array = np.append(data_array, data_trial, axis=0)\n",
    "# for rectangle there is only one object of dim 20x25\n",
    "dims_rectangle = [[20,25],[25,20]]\n",
    "for trial in trials:\n",
    "    for gap in gaps:\n",
    "        for dim in dims_rectangle:\n",
    "            for pose in poses:\n",
    "                dict_key = \"dim_\"+str(dim[0])+\"_\"+str(dim[1])+\"_pose_\"+str(pose)+\"_gap_\"+str(gap)+\"_\"+str(trial)\n",
    "                data_dict_rectangle = full_data_dict_rectangle[dict_key] \n",
    "                data_trial = np.array([[data_dict_rectangle['LF_motion1'][0],\n",
    "                                        data_dict_rectangle['LF_motion1'][1],\n",
    "                                        data_dict_rectangle['LF_motion2'][0],\n",
    "                                        data_dict_rectangle['LF_motion2'][1],\n",
    "                                        3]])\n",
    "                data_array = np.append(data_array, data_trial, axis=0)\n"
   ]
  }
 ],
 "metadata": {
  "kernelspec": {
   "display_name": "Python 3",
   "language": "python",
   "name": "python3"
  },
  "language_info": {
   "codemirror_mode": {
    "name": "ipython",
    "version": 3
   },
   "file_extension": ".py",
   "mimetype": "text/x-python",
   "name": "python",
   "nbconvert_exporter": "python",
   "pygments_lexer": "ipython3",
   "version": "3.9.1"
  }
 },
 "nbformat": 4,
 "nbformat_minor": 5
}
