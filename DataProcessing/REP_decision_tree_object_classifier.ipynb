{
 "cells": [
  {
   "cell_type": "markdown",
   "id": "comic-arizona",
   "metadata": {},
   "source": [
    "# Multiclass Classification using Random Forest on Scikit-Learn Library\n",
    "### Introduction\n",
    "\n",
    "- We collected \n",
    "We are going to use the collected data when manipulating the square, the rectangle,the hexagon and the circle and use the positions to classify."
   ]
  },
  {
   "cell_type": "code",
   "execution_count": 4,
   "id": "approximate-texture",
   "metadata": {},
   "outputs": [],
   "source": [
    "import json\n",
    "import math\n",
    "import matplotlib.pyplot as plt\n",
    "import numpy as np\n",
    "import pandas as pd\n",
    "import seaborn as sns\n",
    "from sklearn.datasets import load_wine\n",
    "np.set_printoptions(precision=4)\n",
    "sns.set()\n",
    "from sklearn.preprocessing import LabelEncoder\n",
    "from sklearn.tree import DecisionTreeClassifier\n",
    "from sklearn.model_selection import train_test_split\n",
    "from sklearn.metrics import confusion_matrix\n",
    "# Data preprocessing and machine learning\n",
    "from sklearn.model_selection import train_test_split\n",
    "from sklearn.tree import DecisionTreeClassifier\n",
    "from sklearn.ensemble import RandomForestClassifier\n",
    "from sklearn.ensemble import BaggingClassifier\n",
    "# To measure performance\n",
    "from sklearn import metrics"
   ]
  },
  {
   "cell_type": "markdown",
   "id": "unavailable-legislature",
   "metadata": {},
   "source": [
    "## Dataset"
   ]
  },
  {
   "cell_type": "code",
   "execution_count": 5,
   "id": "beneficial-corps",
   "metadata": {},
   "outputs": [],
   "source": [
    "# SQUARE\n",
    "with open('../Control/data_pos_trial.json') as f:\n",
    "    full_data_dict_square = json.load(f)\n",
    "# HEXAGON\n",
    "with open('../Control/data_pos_trial_hexagon.json') as f:\n",
    "    full_data_dict_hexagon = json.load(f)\n",
    "# CIRCLE\n",
    "with open('../Control/data_pos_trial_circle.json') as f:\n",
    "    full_data_dict_circle = json.load(f)\n",
    "# RECTANGLE\n",
    "with open('../Control/data_pos_trial_rectangle.json') as f:\n",
    "    full_data_dict_rectangle = json.load(f)\n",
    "\n",
    "number_trials = len(full_data_dict_square) + len(full_data_dict_rectangle) \n",
    "number_trials += len(full_data_dict_circle) + len(full_data_dict_hexagon) \n",
    "data_array  = np.empty((0,142), int) # 5 --> LF1_2;TIME_12;CLASS\n",
    "data_class = []\n",
    "\n",
    "poses = [60,65,70]\n",
    "gaps = [34,42,50]\n",
    "dims = [20,25,30]\n",
    "trials = [1,2]\n",
    "data_list=[]\n",
    "\n",
    "# class --> 0:square 1:hexagon 2:circle 3:rectangle\n",
    "# square and hexagon same trials\n",
    "for trial in trials:\n",
    "    for gap in gaps:\n",
    "        for dim in dims:\n",
    "            for pose in poses:\n",
    "                dict_key = \"dim_\"+str(dim)+\"_pose_\"+str(pose)+\"_gap_\"+str(gap)+\"_\"+str(trial)\n",
    "                data_dict_square = full_data_dict_square[dict_key]\n",
    "                data_trial = np.append(np.array(data_dict_square['RF_motion1'][0]),\n",
    "                                       np.array(data_dict_square['LF_motion2'][0]))[:142]\n",
    "                data_trial = data_trial[np.newaxis,:]\n",
    "                data_class += [0]\n",
    "                data_array = np.append(data_array, data_trial, axis = 0)\n",
    "                data_dict_hexagon = full_data_dict_hexagon[dict_key]\n",
    "                data_trial = np.append(np.array(data_dict_hexagon['RF_motion1'][0]),\n",
    "                                       np.array(data_dict_hexagon['LF_motion2'][0]))[:142]\n",
    "                data_trial = data_trial[np.newaxis,:]\n",
    "                data_class += [1]\n",
    "                data_array = np.append(data_array, data_trial,axis = 0)\n",
    "# for circle the dim 20 gaps 50 only have the 70 pose\n",
    "dims_circle = [20,25]\n",
    "for trial in trials:\n",
    "    for gap in gaps:\n",
    "        for dim in dims_circle:\n",
    "            for pose in poses:\n",
    "                if not ((dim == 20 and gap == 50 and pose == 60) or \n",
    "                    (dim == 20 and gap == 50 and pose == 65)):\n",
    "                    dict_key = \"dim_\"+str(dim)+\"_pose_\"+str(pose)+\"_gap_\"+str(gap)+\"_\"+str(trial)\n",
    "                    data_dict_circle = full_data_dict_circle[dict_key]\n",
    "                    data_trial = np.append(np.array(data_dict_circle['RF_motion1'][0]),\n",
    "                                           np.array(data_dict_circle['LF_motion2'][0]))[:142]\n",
    "                    data_trial = data_trial[np.newaxis, :]\n",
    "                    data_class += [2]\n",
    "                    data_array = np.append(data_array, data_trial,axis = 0)\n",
    "# for rectangle there is only one object of dim 20x25\n",
    "dims_rectangle = [[20,25],[25,20]]\n",
    "for trial in trials:\n",
    "    for gap in gaps:\n",
    "        for dim in dims_rectangle:\n",
    "            for pose in poses:\n",
    "                dict_key = \"dim_\"+str(dim[0])+\"_\"+str(dim[1])+\"_pose_\"+str(pose)+\"_gap_\"+str(gap)+\"_\"+str(trial)\n",
    "                data_dict_rectangle = full_data_dict_rectangle[dict_key]\n",
    "                data_trial = np.append(np.array(data_dict_rectangle['RF_motion1'][0]),\n",
    "                                       np.array(data_dict_rectangle['LF_motion2'][0]))[:142]\n",
    "                data_trial = data_trial[np.newaxis, :]\n",
    "                data_class += [3]\n",
    "                data_array = np.append(data_array, data_trial,axis = 0)\n"
   ]
  },
  {
   "cell_type": "markdown",
   "id": "daily-devon",
   "metadata": {},
   "source": [
    "# Random Forest Classifier\n",
    "https://towardsdatascience.com/an-implementation-and-explanation-of-the-random-forest-in-python-77bf308a9b76"
   ]
  },
  {
   "cell_type": "code",
   "execution_count": 6,
   "id": "deluxe-radical",
   "metadata": {},
   "outputs": [
    {
     "name": "stdout",
     "output_type": "stream",
     "text": [
      "the prection of the classification is :\n",
      "[3, 0, 3, 1, 0, 2, 2, 1, 2, 2, 1, 0, 1, 0, 1, 1, 1, 1, 1, 2, 1, 3, 1, 3, 1, 3, 3, 2, 0, 3, 0, 2, 1, 1, 2, 0]\n",
      "[3 0 3 1 0 0 2 2 1 2 1 0 1 0 1 2 1 1 1 1 1 3 1 3 1 3 3 1 0 3 0 2 1 1 2 0]\n",
      "the probability for the classification is :\n"
     ]
    },
    {
     "ename": "NameError",
     "evalue": "name 'rf_probs' is not defined",
     "output_type": "error",
     "traceback": [
      "\u001b[0;31m---------------------------------------------------------------------------\u001b[0m",
      "\u001b[0;31mNameError\u001b[0m                                 Traceback (most recent call last)",
      "\u001b[0;32m<ipython-input-6-2bb769cf9d94>\u001b[0m in \u001b[0;36m<module>\u001b[0;34m\u001b[0m\n\u001b[1;32m     23\u001b[0m \u001b[0my_probs\u001b[0m \u001b[0;34m=\u001b[0m \u001b[0mmodel\u001b[0m\u001b[0;34m.\u001b[0m\u001b[0mpredict_proba\u001b[0m\u001b[0;34m(\u001b[0m\u001b[0mX_test\u001b[0m\u001b[0;34m)\u001b[0m\u001b[0;34m\u001b[0m\u001b[0;34m\u001b[0m\u001b[0m\n\u001b[1;32m     24\u001b[0m \u001b[0mprint\u001b[0m\u001b[0;34m(\u001b[0m\u001b[0;34m\"the probability for the classification is :\"\u001b[0m\u001b[0;34m)\u001b[0m\u001b[0;34m\u001b[0m\u001b[0;34m\u001b[0m\u001b[0m\n\u001b[0;32m---> 25\u001b[0;31m \u001b[0mprint\u001b[0m\u001b[0;34m(\u001b[0m\u001b[0mrf_probs\u001b[0m\u001b[0;34m[\u001b[0m\u001b[0;34m:\u001b[0m\u001b[0;34m]\u001b[0m\u001b[0;34m[\u001b[0m\u001b[0;34m:\u001b[0m\u001b[0;36m5\u001b[0m\u001b[0;34m]\u001b[0m\u001b[0;34m)\u001b[0m\u001b[0;34m\u001b[0m\u001b[0;34m\u001b[0m\u001b[0m\n\u001b[0m\u001b[1;32m     26\u001b[0m \u001b[0;34m\u001b[0m\u001b[0m\n\u001b[1;32m     27\u001b[0m \u001b[0;32mfrom\u001b[0m \u001b[0msklearn\u001b[0m\u001b[0;34m.\u001b[0m\u001b[0mmetrics\u001b[0m \u001b[0;32mimport\u001b[0m \u001b[0mroc_auc_score\u001b[0m\u001b[0;34m\u001b[0m\u001b[0;34m\u001b[0m\u001b[0m\n",
      "\u001b[0;31mNameError\u001b[0m: name 'rf_probs' is not defined"
     ]
    }
   ],
   "source": [
    "# Splitting Dataset\n",
    "y = data_class\n",
    "X = data_array\n",
    "X_train, X_test, y_train, y_test = train_test_split(X, y, test_size = 36) #10% of the train data_Set\n",
    "#To do this with sklearn.train_test_split you can simply not provide a random_state and it will pick one randomly using np.random.\n",
    "\n",
    "# Number of features \n",
    "from sklearn.ensemble import RandomForestClassifier\n",
    "\n",
    "# Create the model with 100 trees\n",
    "model = RandomForestClassifier(n_estimators=4, \n",
    "                               bootstrap = True,\n",
    "                               max_features = 'sqrt')\n",
    "# Fit on training data\n",
    "model.fit(X_train, y_train)\n",
    "\n",
    "# Actual class predictions\n",
    "y_pred = model.predict(X_test)\n",
    "print(\"the prection of the classification is :\")\n",
    "print(y_test)\n",
    "print(y_pred)\n",
    "# Probabilities for each class\n",
    "y_probs = model.predict_proba(X_test)\n",
    "print(\"the probability for the classification is :\")\n",
    "print(rf_probs[:][:5])\n",
    "\n",
    "from sklearn.metrics import roc_auc_score\n",
    "\n",
    "# Calculate roc auc with \"ovr\"\n",
    "roc_value_ovr = roc_auc_score(y_test, y_probs, multi_class='ovr')\n",
    "# Calculate roc auc with \"ovo\"\n",
    "roc_value_ovo = roc_auc_score(y_test, y_probs, multi_class='ovo')\n",
    "print(roc_value_ovo)\n",
    "\n",
    "\n",
    "# Predicting the Test set results\n",
    "# Making the Confusion Matrix\n",
    "# and the rows will show the actual number of instances for each label.\n",
    "print(metrics.confusion_matrix(y_test, y_pred, labels=[0,1,2,3]))\n",
    "# Printing the precision and recall, among other metrics\n",
    "print(metrics.classification_report(y_test, y_pred, labels=[0,1,2,3]))"
   ]
  },
  {
   "cell_type": "markdown",
   "id": "suffering-plaintiff",
   "metadata": {},
   "source": [
    "https://www.codementor.io/@agarrahul01/multiclass-classification-using-random-forest-on-scikit-learn-library-hkk4lwawu\n",
    "\n",
    "https://towardsdatascience.com/an-implementation-and-explanation-of-the-random-forest-in-python-77bf308a9b76\n",
    "\n",
    "https://www.educative.io/edpresso/how-to-create-a-confusion-matrix-in-python-using-scikit-learn\n"
   ]
  }
 ],
 "metadata": {
  "kernelspec": {
   "display_name": "Python 3",
   "language": "python",
   "name": "python3"
  },
  "language_info": {
   "codemirror_mode": {
    "name": "ipython",
    "version": 3
   },
   "file_extension": ".py",
   "mimetype": "text/x-python",
   "name": "python",
   "nbconvert_exporter": "python",
   "pygments_lexer": "ipython3",
   "version": "3.9.1"
  }
 },
 "nbformat": 4,
 "nbformat_minor": 5
}
