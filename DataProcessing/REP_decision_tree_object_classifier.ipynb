{
 "cells": [
  {
   "cell_type": "markdown",
   "id": "comic-arizona",
   "metadata": {},
   "source": [
    "# Multiclass Classification using Random Forest on Scikit-Learn Library\n",
    "### Introduction\n",
    "\n",
    "- We collected \n",
    "We are going to use the collected data when manipulating the square, the rectangle,the hexagon and the circle and use the positions to classify."
   ]
  },
  {
   "cell_type": "code",
   "execution_count": 1,
   "id": "approximate-texture",
   "metadata": {},
   "outputs": [],
   "source": [
    "import json\n",
    "import math\n",
    "import matplotlib.pyplot as plt\n",
    "import numpy as np\n",
    "import pandas as pd\n",
    "import seaborn as sns\n",
    "from sklearn.datasets import load_wine\n",
    "np.set_printoptions(precision=4)\n",
    "sns.set()\n",
    "from sklearn.preprocessing import LabelEncoder\n",
    "from sklearn.tree import DecisionTreeClassifier\n",
    "from sklearn.model_selection import train_test_split\n",
    "from sklearn.metrics import confusion_matrix\n",
    "# Data preprocessing and machine learning\n",
    "from sklearn.model_selection import train_test_split\n",
    "from sklearn.tree import DecisionTreeClassifier\n",
    "from sklearn.ensemble import RandomForestClassifier\n",
    "from sklearn.ensemble import BaggingClassifier\n",
    "# To measure performance\n",
    "from sklearn import metrics"
   ]
  },
  {
   "cell_type": "markdown",
   "id": "unavailable-legislature",
   "metadata": {},
   "source": [
    "## Dataset"
   ]
  },
  {
   "cell_type": "code",
   "execution_count": 2,
   "id": "beneficial-corps",
   "metadata": {},
   "outputs": [],
   "source": [
    "# SQUARE\n",
    "with open('../Control/data_pos_trial.json') as f:\n",
    "    full_data_dict_square = json.load(f)\n",
    "# HEXAGON\n",
    "with open('../Control/data_pos_trial_hexagon.json') as f:\n",
    "    full_data_dict_hexagon = json.load(f)\n",
    "# CIRCLE\n",
    "with open('../Control/data_pos_trial_circle.json') as f:\n",
    "    full_data_dict_circle = json.load(f)\n",
    "# RECTANGLE\n",
    "with open('../Control/data_pos_trial_rectangle.json') as f:\n",
    "    full_data_dict_rectangle = json.load(f)\n",
    "\n",
    "number_trials = len(full_data_dict_square) + len(full_data_dict_rectangle) \n",
    "number_trials += len(full_data_dict_circle) + len(full_data_dict_hexagon) \n",
    "data_array  = np.empty((0,142), int) # 5 --> LF1_2;TIME_12;CLASS\n",
    "data_class = []\n",
    "\n",
    "poses = [60,65,70]\n",
    "gaps = [34,42,50]\n",
    "dims = [20,25,30]\n",
    "trials = [1,2]\n",
    "data_list=[]\n",
    "\n",
    "# class --> 0:square 1:hexagon 2:circle 3:rectangle\n",
    "# square and hexagon same trials\n",
    "for trial in trials:\n",
    "    for gap in gaps:\n",
    "        for dim in dims:\n",
    "            for pose in poses:\n",
    "                dict_key = \"dim_\"+str(dim)+\"_pose_\"+str(pose)+\"_gap_\"+str(gap)+\"_\"+str(trial)\n",
    "                data_dict_square = full_data_dict_square[dict_key]\n",
    "                data_trial = np.append(np.array(data_dict_square['RF_motion1'][0]),\n",
    "                                       np.array(data_dict_square['LF_motion2'][0]))[:142]\n",
    "                data_trial = data_trial[np.newaxis,:]\n",
    "                data_class += [0]\n",
    "                data_array = np.append(data_array, data_trial, axis = 0)\n",
    "                data_dict_hexagon = full_data_dict_hexagon[dict_key]\n",
    "                data_trial = np.append(np.array(data_dict_hexagon['RF_motion1'][0]),\n",
    "                                       np.array(data_dict_hexagon['LF_motion2'][0]))[:142]\n",
    "                data_trial = data_trial[np.newaxis,:]\n",
    "                data_class += [1]\n",
    "                data_array = np.append(data_array, data_trial,axis = 0)\n",
    "# for circle the dim 20 gaps 50 only have the 70 pose\n",
    "dims_circle = [20,25]\n",
    "for trial in trials:\n",
    "    for gap in gaps:\n",
    "        for dim in dims_circle:\n",
    "            for pose in poses:\n",
    "                if not ((dim == 20 and gap == 50 and pose == 60) or \n",
    "                    (dim == 20 and gap == 50 and pose == 65)):\n",
    "                    dict_key = \"dim_\"+str(dim)+\"_pose_\"+str(pose)+\"_gap_\"+str(gap)+\"_\"+str(trial)\n",
    "                    data_dict_circle = full_data_dict_circle[dict_key]\n",
    "                    data_trial = np.append(np.array(data_dict_circle['RF_motion1'][0]),\n",
    "                                           np.array(data_dict_circle['LF_motion2'][0]))[:142]\n",
    "                    data_trial = data_trial[np.newaxis, :]\n",
    "                    data_class += [2]\n",
    "                    data_array = np.append(data_array, data_trial,axis = 0)\n",
    "# for rectangle there is only one object of dim 20x25\n",
    "dims_rectangle = [[20,25],[25,20]]\n",
    "for trial in trials:\n",
    "    for gap in gaps:\n",
    "        for dim in dims_rectangle:\n",
    "            for pose in poses:\n",
    "                dict_key = \"dim_\"+str(dim[0])+\"_\"+str(dim[1])+\"_pose_\"+str(pose)+\"_gap_\"+str(gap)+\"_\"+str(trial)\n",
    "                data_dict_rectangle = full_data_dict_rectangle[dict_key]\n",
    "                data_trial = np.append(np.array(data_dict_rectangle['RF_motion1'][0]),\n",
    "                                       np.array(data_dict_rectangle['LF_motion2'][0]))[:142]\n",
    "                data_trial = data_trial[np.newaxis, :]\n",
    "                data_class += [3]\n",
    "                data_array = np.append(data_array, data_trial,axis = 0)\n"
   ]
  },
  {
   "cell_type": "markdown",
   "id": "daily-devon",
   "metadata": {},
   "source": [
    "# Random Forest Classifier\n",
    "https://towardsdatascience.com/an-implementation-and-explanation-of-the-random-forest-in-python-77bf308a9b76"
   ]
  },
  {
   "cell_type": "code",
   "execution_count": 13,
   "id": "deluxe-radical",
   "metadata": {},
   "outputs": [],
   "source": [
    "# Splitting Dataset\n",
    "y = data_class\n",
    "X = data_array\n",
    "X_train, X_test, y_train, y_test = train_test_split(X, y, test_size = 36) #10% of the train data_Set\n",
    "#To do this with sklearn.train_test_split you can simply not provide a random_state and it will pick one randomly using np.random.\n",
    "\n",
    "# Number of features \n",
    "from sklearn.ensemble import RandomForestClassifier"
   ]
  },
  {
   "cell_type": "code",
   "execution_count": 4,
   "id": "associate-rating",
   "metadata": {},
   "outputs": [
    {
     "name": "stdout",
     "output_type": "stream",
     "text": [
      "Fitting 3 folds for each of 10 candidates, totalling 30 fits\n"
     ]
    },
    {
     "name": "stderr",
     "output_type": "stream",
     "text": [
      "/Library/Frameworks/Python.framework/Versions/3.9/lib/python3.9/site-packages/sklearn/model_selection/_search.py:918: UserWarning: One or more of the test scores are non-finite: [nan nan nan nan nan nan nan nan nan nan]\n",
      "  warnings.warn(\n"
     ]
    },
    {
     "data": {
      "text/plain": [
       "RandomizedSearchCV(cv=3, estimator=RandomForestClassifier(random_state=50),\n",
       "                   n_jobs=-1,\n",
       "                   param_distributions={'bootstrap': [True, False],\n",
       "                                        'max_depth': [None, 1, 1, 1, 2, 2, 2, 3,\n",
       "                                                      3, 4, 4, 4, 5, 5, 6, 6, 6,\n",
       "                                                      7, 7, 7, 8, 8, 9, 9, 9,\n",
       "                                                      10, 10, 11, 11, 11, ...],\n",
       "                                        'max_features': ['auto', 'sqrt', None,\n",
       "                                                         0.5, 0.6, 0.7,\n",
       "                                                         0.7999999999999999,\n",
       "                                                         0.8999999999999999],\n",
       "                                        'max_leaf_nodes': [None, 10, 10, 10, 10,\n",
       "                                                           10, 10, 10, 10, 10,\n",
       "                                                           10, 10, 10, 10, 11,\n",
       "                                                           11, 11, 11, 11, 11,\n",
       "                                                           11, 11, 11, 11, 11,\n",
       "                                                           11, 12, 12, 12, 12, ...],\n",
       "                                        'min_samples_split': [2, 5, 10],\n",
       "                                        'n_estimators': array([ 1,  1,  1,  2,  2,  2,  3,  3,  4,  4,  4,  5,  5,  6,  6,  6,  7,\n",
       "        7,  7,  8,  8,  9,  9,  9, 10, 10, 11, 11, 11, 12, 12, 13, 13, 13,\n",
       "       14, 14, 14, 15, 15, 16, 16, 16, 17, 17, 18, 18, 18, 19, 19, 20])},\n",
       "                   random_state=50, scoring='roc_auc', verbose=1)"
      ]
     },
     "execution_count": 4,
     "metadata": {},
     "output_type": "execute_result"
    }
   ],
   "source": [
    "from sklearn.model_selection import RandomizedSearchCV\n",
    "\n",
    "# Hyperparameter grid\n",
    "param_grid = {\n",
    "    'n_estimators': np.linspace(1, 20).astype(int),\n",
    "    'max_depth': [None] + list(np.linspace(1, 20).astype(int)),\n",
    "    'max_features': ['auto', 'sqrt', None] + list(np.arange(0.5, 1, 0.1)),\n",
    "    'max_leaf_nodes': [None] + list(np.linspace(10, 50, 500).astype(int)),\n",
    "    'min_samples_split': [2, 5, 10],\n",
    "    'bootstrap': [True, False]\n",
    "}\n",
    "\n",
    "# Estimator for use in random search\n",
    "RSEED = 50\n",
    "estimator = RandomForestClassifier(random_state = RSEED)\n",
    "\n",
    "# Create the random search model\n",
    "rs = RandomizedSearchCV(estimator, param_grid, n_jobs = -1, \n",
    "                        scoring = 'roc_auc', cv = 3, \n",
    "                        n_iter = 10, verbose = 1, random_state=RSEED)\n",
    "\n",
    "# Fit \n",
    "rs.fit(X_train, y_train)"
   ]
  },
  {
   "cell_type": "code",
   "execution_count": 5,
   "id": "fifteen-panel",
   "metadata": {},
   "outputs": [
    {
     "data": {
      "text/plain": [
       "{'n_estimators': 8,\n",
       " 'min_samples_split': 10,\n",
       " 'max_leaf_nodes': 28,\n",
       " 'max_features': 'auto',\n",
       " 'max_depth': 9,\n",
       " 'bootstrap': False}"
      ]
     },
     "execution_count": 5,
     "metadata": {},
     "output_type": "execute_result"
    }
   ],
   "source": [
    "rs.best_params_"
   ]
  },
  {
   "cell_type": "code",
   "execution_count": 29,
   "id": "angry-giant",
   "metadata": {},
   "outputs": [
    {
     "name": "stdout",
     "output_type": "stream",
     "text": [
      "the probability for the classification is :\n",
      "[[0.0263 0.764  0.1905 0.0192]\n",
      " [0.     0.     0.     1.    ]\n",
      " [0.25   0.2917 0.4333 0.025 ]\n",
      " [0.0263 0.889  0.0655 0.0192]\n",
      " [0.05   0.     0.     0.95  ]]\n"
     ]
    },
    {
     "data": {
      "text/plain": [
       "'\\nfrom sklearn.metrics import roc_auc_score\\n\\n# Calculate roc auc with \"ovr\"\\nroc_value_ovr = roc_auc_score(y_test, y_probs, multi_class=\\'ovr\\')\\n# Calculate roc auc with \"ovo\"\\nroc_value_ovo = roc_auc_score(y_test, y_probs, multi_class=\\'ovo\\')\\nprint(roc_value_ovo)\\n\\n\\n# Predicting the Test set results\\n# Making the Confusion Matrix\\n# and the rows will show the actual number of instances for each label.\\nprint(metrics.confusion_matrix(y_test, y_pred, labels=[0,1,2,3]))\\n# Printing the precision and recall, among other metrics\\nprint(metrics.classification_report(y_test, y_pred, labels=[0,1,2,3]))\\n'"
      ]
     },
     "execution_count": 29,
     "metadata": {},
     "output_type": "execute_result"
    }
   ],
   "source": [
    "# Create the model with 100 trees\n",
    "model = RandomForestClassifier(n_estimators=8,\n",
    "                               min_samples_split=10,\n",
    "                               max_leaf_nodes=28,\n",
    "                               max_features = 'auto',\n",
    "                               bootstrap = True,\n",
    "                               max_depth = 9)\n",
    "# Fit on training data\n",
    "model.fit(X_train, y_train)\n",
    "\n",
    "# Actual class predictions\n",
    "y_pred = model.predict(X_test)\n",
    "#print(\"the prection of the classification is :\")\n",
    "#print(y_test)\n",
    "#print(y_pred)\n",
    "# Probabilities for each class\n",
    "y_probs = model.predict_proba(X_test)\n",
    "print(\"the probability for the classification is :\")\n",
    "print(y_probs[:][:5])\n",
    "\"\"\"\n",
    "from sklearn.metrics import roc_auc_score\n",
    "\n",
    "# Calculate roc auc with \"ovr\"\n",
    "roc_value_ovr = roc_auc_score(y_test, y_probs, multi_class='ovr')\n",
    "# Calculate roc auc with \"ovo\"\n",
    "roc_value_ovo = roc_auc_score(y_test, y_probs, multi_class='ovo')\n",
    "print(roc_value_ovo)\n",
    "\n",
    "\n",
    "# Predicting the Test set results\n",
    "# Making the Confusion Matrix\n",
    "# and the rows will show the actual number of instances for each label.\n",
    "print(metrics.confusion_matrix(y_test, y_pred, labels=[0,1,2,3]))\n",
    "# Printing the precision and recall, among other metrics\n",
    "print(metrics.classification_report(y_test, y_pred, labels=[0,1,2,3]))\n",
    "\"\"\""
   ]
  },
  {
   "cell_type": "code",
   "execution_count": 28,
   "id": "proof-secretary",
   "metadata": {},
   "outputs": [],
   "source": [
    "cm = metrics.confusion_matrix(y_test, y_pred, labels=[0,1,2,3])\n",
    "\n",
    "from sklearn.metrics import confusion_matrix\n",
    "import itertools\n",
    "\n",
    "def plot_confusion_matrix(cm, classes,\n",
    "                          normalize=False,\n",
    "                          title='Confusion matrix',\n",
    "                          cmap=plt.cm.Blues):\n",
    "    \"\"\"\n",
    "    This function prints and plots the confusion matrix.\n",
    "    Normalization can be applied by setting `normalize=True`.\n",
    "    Source: http://scikit-learn.org/stable/auto_examples/model_selection/plot_confusion_matrix.html\n",
    "    \"\"\"\n",
    "    if normalize:\n",
    "        cm = cm.astype('float') / cm.sum(axis=1)[:, np.newaxis]\n",
    "        print(\"Normalized confusion matrix\")\n",
    "    else:\n",
    "        print('Confusion matrix, without normalization')\n",
    "\n",
    "    print(cm)\n",
    "\n",
    "    plt.figure(figsize = (10, 10))\n",
    "    plt.tight_layout()\n",
    "    plt.imshow(cm, interpolation='nearest', cmap=cmap)\n",
    "    plt.title(title, size = 24)\n",
    "    plt.colorbar(aspect=4)\n",
    "    tick_marks = np.arange(len(classes))\n",
    "    plt.xticks(tick_marks, classes, rotation=45, size = 14)\n",
    "    plt.yticks(tick_marks, classes, size = 14)\n",
    "\n",
    "    fmt = '.2f' if normalize else 'd'\n",
    "    thresh = cm.max() / 2.\n",
    "    \n",
    "    # Labeling the plot\n",
    "    for i, j in itertools.product(range(cm.shape[0]), range(cm.shape[1])):\n",
    "        plt.text(j, i, format(cm[i, j], fmt), fontsize = 20,\n",
    "                 horizontalalignment=\"center\",\n",
    "                 color=\"white\" if cm[i, j] > thresh else \"black\")\n",
    "        \n",
    "    plt.grid(None)\n",
    "    plt.tight_layout()\n",
    "    plt.ylabel('True label', size = 18)\n",
    "    plt.xlabel('Predicted label', size = 18)\n",
    "    plt.savefig('shape_confusion_matrix_2.png',bbox_inches='tight')"
   ]
  },
  {
   "cell_type": "code",
   "execution_count": 35,
   "id": "boring-massachusetts",
   "metadata": {},
   "outputs": [
    {
     "name": "stdout",
     "output_type": "stream",
     "text": [
      "the accuracy of the classification is:\n",
      "0.8055555555555556\n",
      "the prection of the classification is :\n",
      "[1, 3, 2, 1, 0, 2, 0, 1, 2, 3, 1, 0, 1, 3, 2, 3, 1, 0, 3, 2, 0, 2, 1, 1, 0, 3, 3, 0, 1, 0, 2, 0, 1, 1, 0, 2]\n",
      "[1 3 2 1 3 2 3 1 1 3 2 0 1 3 2 3 1 0 3 2 0 2 1 1 0 1 3 3 1 0 2 0 1 1 0 1]\n",
      "cross val\n",
      "0.8357142857142857\n",
      "Confusion matrix, without normalization\n",
      "[[ 6  1  0  3]\n",
      " [ 0 10  1  0]\n",
      " [ 0  2  6  0]\n",
      " [ 0  1  0  6]]\n"
     ]
    },
    {
     "data": {
      "image/png": "[encoded data removed]",
      "text/plain": [
       "<Figure size 720x720 with 2 Axes>"
      ]
     },
     "metadata": {},
     "output_type": "display_data"
    }
   ],
   "source": [
    "from sklearn.metrics import accuracy_score\n",
    "\n",
    "print(\"the accuracy of the classification is:\")\n",
    "print(accuracy_score(y_test,y_pred))\n",
    "print(\"the prection of the classification is :\")\n",
    "print(y_test)\n",
    "print(y_pred)\n",
    "\n",
    "from sklearn.model_selection import cross_val_score\n",
    "\n",
    "print(\"cross val\")\n",
    "print(np.mean(cross_val_score(model,X_train, y_train,cv=10)))\n",
    "\n",
    "\n",
    "plot_confusion_matrix(cm, classes = ['Square', 'Hexagon', 'Cylinder', 'Rectangle'],\n",
    "                      title = 'Shape Confusion Matrix')"
   ]
  },
  {
   "cell_type": "code",
   "execution_count": 20,
   "id": "charged-atlanta",
   "metadata": {},
   "outputs": [],
   "source": [
    "from sklearn.tree import export_graphviz\n",
    "\n",
    "estimator = model.estimators_[5]\n",
    "\n",
    "# Export as dot\n",
    "export_graphviz(estimator, 'treeFromRandomForest.dot', rounded = True, \n",
    "                class_names = ['square', 'hexagon', 'cylinder', 'rectangle'], filled = True)"
   ]
  },
  {
   "cell_type": "markdown",
   "id": "suffering-plaintiff",
   "metadata": {},
   "source": [
    "https://www.codementor.io/@agarrahul01/multiclass-classification-using-random-forest-on-scikit-learn-library-hkk4lwawu\n",
    "\n",
    "https://towardsdatascience.com/an-implementation-and-explanation-of-the-random-forest-in-python-77bf308a9b76\n",
    "\n",
    "https://www.educative.io/edpresso/how-to-create-a-confusion-matrix-in-python-using-scikit-learn\n"
   ]
  }
 ],
 "metadata": {
  "kernelspec": {
   "display_name": "Python 3",
   "language": "python",
   "name": "python3"
  },
  "language_info": {
   "codemirror_mode": {
    "name": "ipython",
    "version": 3
   },
   "file_extension": ".py",
   "mimetype": "text/x-python",
   "name": "python",
   "nbconvert_exporter": "python",
   "pygments_lexer": "ipython3",
   "version": "3.9.1"
  }
 },
 "nbformat": 4,
 "nbformat_minor": 5
}
