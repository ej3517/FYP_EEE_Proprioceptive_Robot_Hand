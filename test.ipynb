{
 "cells": [
  {
   "cell_type": "code",
   "execution_count": 31,
   "metadata": {
    "pycharm": {
     "name": "#%%\n"
    }
   },
   "outputs": [
    {
     "name": "stdout",
     "output_type": "stream",
     "text": [
      "7\n"
     ]
    }
   ],
   "source": [
    "import math\n",
    "\n",
    "\n",
    "def minimumBribes(q):\n",
    "    # Write your code here\n",
    "    n = len(q)\n",
    "    bribes = 0\n",
    "    not_too_chaotic = True\n",
    "    for i in range(n-1,0,-1):\n",
    "        if q[i] == i+1:\n",
    "            bribes += 0\n",
    "        elif q[i-1] == i+1:\n",
    "            q = q[:i-1]+[q[i]]+[q[i-1]]+q[i+1:]\n",
    "            bribes += 1\n",
    "        elif q[i-2] == i+1:\n",
    "            q = q[:i-2]+q[i-1:i+1]+[q[i-2]]+q[i+1:]\n",
    "            bribes += 2\n",
    "        else:\n",
    "            print(\"Too chaotic\")\n",
    "            return\n",
    "    if not_too_chaotic:\n",
    "        print(bribes)\n",
    "\n",
    "test3=[1, 2, 5, 3, 7, 8, 6, 4]\n",
    "minimumBribes(test3)"
   ]
  }
 ],
 "metadata": {
  "kernelspec": {
   "display_name": "Python 3",
   "language": "python",
   "name": "python3"
  },
  "language_info": {
   "codemirror_mode": {
    "name": "ipython",
    "version": 3
   },
   "file_extension": ".py",
   "mimetype": "text/x-python",
   "name": "python",
   "nbconvert_exporter": "python",
   "pygments_lexer": "ipython3",
   "version": "3.9.1"
  }
 },
 "nbformat": 4,
 "nbformat_minor": 1
}
