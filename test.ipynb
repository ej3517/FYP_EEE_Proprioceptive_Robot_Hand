{
 "cells": [
  {
   "cell_type": "code",
   "execution_count": 6,
   "metadata": {
    "pycharm": {
     "name": "#%%\n"
    }
   },
   "outputs": [
    {
     "name": "stdout",
     "output_type": "stream",
     "text": [
      "[1, 2, 3, 5] [2, 3, 5]\n",
      "1\n"
     ]
    }
   ],
   "source": [
    "import math\n",
    "list1 = [1,2,3,5]\n",
    "\n",
    "def sockMerchant(n, ar):\n",
    "    # Write your code here\n",
    "    color = 1\n",
    "    nb_pair = 0\n",
    "    while color <= n and len(ar) > 1:\n",
    "        if color in ar:\n",
    "            j = 0\n",
    "            nb_socks = 0\n",
    "            while j < len(ar):\n",
    "                if ar[j]==color:\n",
    "                    ar = ar[:j]+ar[j+1:]\n",
    "                    nb_socks += 1\n",
    "                else:\n",
    "                    j += 1\n",
    "            nb_pair += math.floor(nb_socks/2)\n",
    "            color += 1\n",
    "        else:\n",
    "            color += 1\n",
    "    return nb_pair\n",
    "\n",
    "print(9)"
   ]
  }
 ],
 "metadata": {
  "kernelspec": {
   "display_name": "Python 3",
   "language": "python",
   "name": "python3"
  },
  "language_info": {
   "codemirror_mode": {
    "name": "ipython",
    "version": 3
   },
   "file_extension": ".py",
   "mimetype": "text/x-python",
   "name": "python",
   "nbconvert_exporter": "python",
   "pygments_lexer": "ipython3",
   "version": "3.9.1"
  }
 },
 "nbformat": 4,
 "nbformat_minor": 1
}
